{
 "cells": [
  {
   "cell_type": "code",
   "execution_count": 3,
   "metadata": {},
   "outputs": [
    {
     "data": {
      "text/plain": [
       "(648, 7)"
      ]
     },
     "execution_count": 3,
     "metadata": {},
     "output_type": "execute_result"
    }
   ],
   "source": [
    "Find the interpretation of this project here: https://www.notion.so/openlyone/Venture-Capital-Data-Science-835f8a8848ca462bb05dee3da9629f21\n",
    "import pandas as pd\n",
    "import numpy as np\n",
    "import matplotlib.pyplot as plt\n",
    " \n",
    "df = pd.read_csv(r\"C:\\Users\\owner\\Downloads\\VC_Pandemic_Investments.csv\", na_values = ' ?')\n",
    "\n",
    "df.head()\n",
    "df.shape"
   ]
  },
  {
   "cell_type": "code",
   "execution_count": 4,
   "metadata": {},
   "outputs": [
    {
     "data": {
      "text/html": [
       "<div>\n",
       "<style scoped>\n",
       "    .dataframe tbody tr th:only-of-type {\n",
       "        vertical-align: middle;\n",
       "    }\n",
       "\n",
       "    .dataframe tbody tr th {\n",
       "        vertical-align: top;\n",
       "    }\n",
       "\n",
       "    .dataframe thead th {\n",
       "        text-align: right;\n",
       "    }\n",
       "</style>\n",
       "<table border=\"1\" class=\"dataframe\">\n",
       "  <thead>\n",
       "    <tr style=\"text-align: right;\">\n",
       "      <th></th>\n",
       "      <th>Country</th>\n",
       "      <th>VC Name</th>\n",
       "      <th>Announced Date</th>\n",
       "      <th>Organization Name</th>\n",
       "      <th>Lead Investor</th>\n",
       "      <th>Funding Round</th>\n",
       "      <th>Money Raised</th>\n",
       "    </tr>\n",
       "  </thead>\n",
       "  <tbody>\n",
       "    <tr>\n",
       "      <th>417</th>\n",
       "      <td>China</td>\n",
       "      <td>Sequoia Capital China</td>\n",
       "      <td>Jul 20, 2020</td>\n",
       "      <td>Xiaopeng Motors</td>\n",
       "      <td>—</td>\n",
       "      <td>Series C - Xiaopeng Motors</td>\n",
       "      <td>$500M</td>\n",
       "    </tr>\n",
       "    <tr>\n",
       "      <th>418</th>\n",
       "      <td>China</td>\n",
       "      <td>Sequoia Capital China</td>\n",
       "      <td>Jul 15, 2020</td>\n",
       "      <td>TUNGEE</td>\n",
       "      <td>Yes</td>\n",
       "      <td>Series B - TUNGEE</td>\n",
       "      <td>CN¥120M</td>\n",
       "    </tr>\n",
       "    <tr>\n",
       "      <th>419</th>\n",
       "      <td>China</td>\n",
       "      <td>Sequoia Capital China</td>\n",
       "      <td>Jul 13, 2020</td>\n",
       "      <td>AccuMedical</td>\n",
       "      <td>Yes</td>\n",
       "      <td>Series B - AccuMedical</td>\n",
       "      <td>CN¥100M</td>\n",
       "    </tr>\n",
       "    <tr>\n",
       "      <th>420</th>\n",
       "      <td>China</td>\n",
       "      <td>Sequoia Capital China</td>\n",
       "      <td>Jul 8, 2020</td>\n",
       "      <td>Kuaidian Yuedu</td>\n",
       "      <td>Yes</td>\n",
       "      <td>Series C - Kuaidian Yuedu</td>\n",
       "      <td>$100M</td>\n",
       "    </tr>\n",
       "    <tr>\n",
       "      <th>421</th>\n",
       "      <td>China</td>\n",
       "      <td>Sequoia Capital China</td>\n",
       "      <td>Jun 29, 2020</td>\n",
       "      <td>Zuoyebang</td>\n",
       "      <td>—</td>\n",
       "      <td>Series E - Zuoyebang</td>\n",
       "      <td>$750M</td>\n",
       "    </tr>\n",
       "  </tbody>\n",
       "</table>\n",
       "</div>"
      ],
      "text/plain": [
       "    Country                VC Name Announced Date Organization Name  \\\n",
       "417   China  Sequoia Capital China   Jul 20, 2020   Xiaopeng Motors   \n",
       "418   China  Sequoia Capital China   Jul 15, 2020            TUNGEE   \n",
       "419   China  Sequoia Capital China   Jul 13, 2020       AccuMedical   \n",
       "420   China  Sequoia Capital China    Jul 8, 2020    Kuaidian Yuedu   \n",
       "421   China  Sequoia Capital China   Jun 29, 2020         Zuoyebang   \n",
       "\n",
       "    Lead Investor               Funding Round Money Raised  \n",
       "417             —  Series C - Xiaopeng Motors        $500M  \n",
       "418           Yes           Series B - TUNGEE      CN¥120M  \n",
       "419           Yes      Series B - AccuMedical      CN¥100M  \n",
       "420           Yes   Series C - Kuaidian Yuedu        $100M  \n",
       "421             —        Series E - Zuoyebang        $750M  "
      ]
     },
     "execution_count": 4,
     "metadata": {},
     "output_type": "execute_result"
    }
   ],
   "source": [
    "china = df[(df['Country'] == 'China')]\n",
    "\n",
    "china.head()"
   ]
  },
  {
   "cell_type": "code",
   "execution_count": 5,
   "metadata": {},
   "outputs": [
    {
     "data": {
      "text/html": [
       "<div>\n",
       "<style scoped>\n",
       "    .dataframe tbody tr th:only-of-type {\n",
       "        vertical-align: middle;\n",
       "    }\n",
       "\n",
       "    .dataframe tbody tr th {\n",
       "        vertical-align: top;\n",
       "    }\n",
       "\n",
       "    .dataframe thead th {\n",
       "        text-align: right;\n",
       "    }\n",
       "</style>\n",
       "<table border=\"1\" class=\"dataframe\">\n",
       "  <thead>\n",
       "    <tr style=\"text-align: right;\">\n",
       "      <th></th>\n",
       "      <th>Country</th>\n",
       "      <th>VC Name</th>\n",
       "      <th>Announced Date</th>\n",
       "      <th>Organization Name</th>\n",
       "      <th>Lead Investor</th>\n",
       "      <th>Funding Round</th>\n",
       "      <th>Money Raised</th>\n",
       "    </tr>\n",
       "  </thead>\n",
       "  <tbody>\n",
       "    <tr>\n",
       "      <th>412</th>\n",
       "      <td>USA</td>\n",
       "      <td>Bessemer Venture Partners</td>\n",
       "      <td>Mar 2, 2020</td>\n",
       "      <td>Rigetti Computing</td>\n",
       "      <td>Yes</td>\n",
       "      <td>Series D - Rigetti Computing</td>\n",
       "      <td>$71M</td>\n",
       "    </tr>\n",
       "    <tr>\n",
       "      <th>413</th>\n",
       "      <td>USA</td>\n",
       "      <td>Bessemer Venture Partners</td>\n",
       "      <td>Feb 14, 2020</td>\n",
       "      <td>Toast</td>\n",
       "      <td>Yes</td>\n",
       "      <td>Series F - Toast</td>\n",
       "      <td>$400M</td>\n",
       "    </tr>\n",
       "    <tr>\n",
       "      <th>414</th>\n",
       "      <td>USA</td>\n",
       "      <td>Bessemer Venture Partners</td>\n",
       "      <td>Feb 4, 2020</td>\n",
       "      <td>Hinge Health</td>\n",
       "      <td>Yes</td>\n",
       "      <td>Series C - Hinge Health</td>\n",
       "      <td>$90M</td>\n",
       "    </tr>\n",
       "    <tr>\n",
       "      <th>415</th>\n",
       "      <td>USA</td>\n",
       "      <td>Bessemer Venture Partners</td>\n",
       "      <td>Jan 31, 2020</td>\n",
       "      <td>Breathwrk</td>\n",
       "      <td>—</td>\n",
       "      <td>Seed Round - Breathwrk</td>\n",
       "      <td>—</td>\n",
       "    </tr>\n",
       "    <tr>\n",
       "      <th>416</th>\n",
       "      <td>USA</td>\n",
       "      <td>Bessemer Venture Partners</td>\n",
       "      <td>Jan 21, 2020</td>\n",
       "      <td>Unito</td>\n",
       "      <td>Yes</td>\n",
       "      <td>Series A - Unito</td>\n",
       "      <td>$10.5M</td>\n",
       "    </tr>\n",
       "  </tbody>\n",
       "</table>\n",
       "</div>"
      ],
      "text/plain": [
       "    Country                    VC Name Announced Date  Organization Name  \\\n",
       "412     USA  Bessemer Venture Partners    Mar 2, 2020  Rigetti Computing   \n",
       "413     USA  Bessemer Venture Partners   Feb 14, 2020              Toast   \n",
       "414     USA  Bessemer Venture Partners    Feb 4, 2020       Hinge Health   \n",
       "415     USA  Bessemer Venture Partners   Jan 31, 2020          Breathwrk   \n",
       "416     USA  Bessemer Venture Partners   Jan 21, 2020              Unito   \n",
       "\n",
       "    Lead Investor                 Funding Round Money Raised  \n",
       "412           Yes  Series D - Rigetti Computing         $71M  \n",
       "413           Yes              Series F - Toast        $400M  \n",
       "414           Yes       Series C - Hinge Health         $90M  \n",
       "415             —        Seed Round - Breathwrk            —  \n",
       "416           Yes              Series A - Unito       $10.5M  "
      ]
     },
     "execution_count": 5,
     "metadata": {},
     "output_type": "execute_result"
    }
   ],
   "source": [
    "usa = df[(df['Country'] == 'USA')]\n",
    "\n",
    "usa.tail()"
   ]
  },
  {
   "cell_type": "markdown",
   "metadata": {},
   "source": [
    "# Most Optimistic and Conservative Investors US vs China\n",
    "## Who has the money?\n",
    "\n",
    "### For a better comparison, compare each firm with number of investment bets pre-pandemic"
   ]
  },
  {
   "cell_type": "code",
   "execution_count": 49,
   "metadata": {},
   "outputs": [
    {
     "data": {
      "text/plain": [
       "{'Accel': 59,\n",
       " 'A16Z': 52,\n",
       " 'Lightspeed Venture Partners': 41,\n",
       " 'Sequoia Capital': 40,\n",
       " 'Khosla Ventures': 37,\n",
       " 'Index Ventures': 37,\n",
       " 'Founders Fund': 27,\n",
       " 'Bessemer Venture Partners': 23,\n",
       " 'New Enterprise Associates': 22,\n",
       " 'First Round Capital': 18,\n",
       " 'Union Square Ventures': 15,\n",
       " 'Softbank Vision Fund': 14,\n",
       " 'Greylock': 14,\n",
       " 'Floodgate': 12,\n",
       " 'Benchmark': 6}"
      ]
     },
     "execution_count": 49,
     "metadata": {},
     "output_type": "execute_result"
    }
   ],
   "source": [
    "#most active US VCs\n",
    "usa_investments = dict(usa['VC Name'].value_counts())\n",
    "usa_investments"
   ]
  },
  {
   "cell_type": "code",
   "execution_count": 175,
   "metadata": {},
   "outputs": [
    {
     "data": {
      "image/png": "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\n",
      "text/plain": [
       "<Figure size 800x480 with 1 Axes>"
      ]
     },
     "metadata": {},
     "output_type": "display_data"
    }
   ],
   "source": [
    "plt.figure(num=None, figsize=(10, 6), dpi=80, facecolor='w', edgecolor='w')\n",
    "plt.barh(range(len(usa_investments.keys())), usa_investments.values(), color='#89cff0')\n",
    "plt.yticks(range(len(usa_investments.values())), usa_investments.keys(), rotation=360)\n",
    "#plt.tight_layout()\n",
    "\n",
    "plt.xlabel('Number of Investments Made')\n",
    "plt.title(\"US VCs Number of Investments Post 01-20-20\", fontsize=17, y=1.05)\n",
    "\n",
    "plt.show()"
   ]
  },
  {
   "cell_type": "code",
   "execution_count": 52,
   "metadata": {},
   "outputs": [
    {
     "data": {
      "text/plain": [
       "{'Qiming Venture Partners': 38,\n",
       " 'Sequoia Capital China': 38,\n",
       " 'GGV Capital': 32,\n",
       " 'Hillhouse Capital Group': 22,\n",
       " 'ZhenFund': 16,\n",
       " 'GSR Ventures': 14,\n",
       " 'IDG Capital': 11,\n",
       " 'Legend Capital': 11,\n",
       " 'DCM Ventures': 9,\n",
       " 'Shenzhen Capital Group': 8,\n",
       " 'Matrix Partners China': 7,\n",
       " 'Shunwei Capital': 7,\n",
       " 'Morningside Venture Capital': 7,\n",
       " 'Source Code Capital': 7,\n",
       " 'Gaorong Capital': 4}"
      ]
     },
     "execution_count": 52,
     "metadata": {},
     "output_type": "execute_result"
    }
   ],
   "source": [
    "#most active chinese VCs\n",
    "china_investments = dict(china['VC Name'].value_counts())\n",
    "china_investments"
   ]
  },
  {
   "cell_type": "code",
   "execution_count": 176,
   "metadata": {},
   "outputs": [
    {
     "data": {
      "image/png": "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\n",
      "text/plain": [
       "<Figure size 800x480 with 1 Axes>"
      ]
     },
     "metadata": {},
     "output_type": "display_data"
    }
   ],
   "source": [
    "plt.figure(num=None, figsize=(10, 6), dpi=80, facecolor='w', edgecolor='w')\n",
    "\n",
    "plt.barh(range(len(china_investments.keys())), china_investments.values(), color='#f4c2c2')\n",
    "\n",
    "plt.yticks(range(len(china_investments.values())), china_investments.keys(), rotation=360)\n",
    "\n",
    "plt.xlabel('Number of Investments Made')\n",
    "plt.title(\"Chinese VCs Number of Investments Post 01-20-20\", fontsize=17, y=1.05)\n",
    "\n",
    "#plt.tight_layout()\n",
    "plt.show()"
   ]
  },
  {
   "cell_type": "code",
   "execution_count": 191,
   "metadata": {},
   "outputs": [
    {
     "data": {
      "image/png": "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\n",
      "text/plain": [
       "<Figure size 432x288 with 1 Axes>"
      ]
     },
     "metadata": {
      "needs_background": "light"
     },
     "output_type": "display_data"
    }
   ],
   "source": [
    "X = np.arange(len(china_investments))\n",
    "ax = plt.subplot(111)\n",
    "\n",
    "ax.bar(X-0.2, usa_investments.values(), width=0.5, color='#89cff0', align='center')\n",
    "#plt.xticks(range(len(usa_investments.values())), usa_investments.keys(), rotation=90)\n",
    "\n",
    "ax.bar(X, china_investments.values(), width=0.5, color='#f4c2c2', align='center')\n",
    "#plt.xticks(range(len(china_investments.values())))\n",
    "\n",
    "#could have done this more elegantly and automatically, but decided to rush it\n",
    "plt.xticks(np.arange(15), ['1', '2', '3', '4', '5', '6', '7', '8', '9', '10', '11', '12', '13', '14', '15']) \n",
    "\n",
    "ax.legend(('USA VCs','China VCs'))\n",
    "plt.title(\"US vs Chinese VCs Number of Investments Post 01-20-20\", fontsize=17, y=1.05)\n",
    "\n",
    "plt.xlabel('1st to 15th Most Active US vs Chinese VC')\n",
    "plt.ylabel('Number of Investments')\n",
    "\n",
    "plt.show()"
   ]
  },
  {
   "cell_type": "markdown",
   "metadata": {},
   "source": [
    "# The most active investors, who likes to be the lead (lead investment decisions/total investment made by single VC)\n"
   ]
  },
  {
   "cell_type": "code",
   "execution_count": 76,
   "metadata": {},
   "outputs": [
    {
     "data": {
      "text/plain": [
       "—      365\n",
       "Yes    257\n",
       "No      26\n",
       "Name: Lead Investor, dtype: int64"
      ]
     },
     "execution_count": 76,
     "metadata": {},
     "output_type": "execute_result"
    }
   ],
   "source": [
    "df['Lead Investor'].value_counts()"
   ]
  },
  {
   "cell_type": "code",
   "execution_count": 77,
   "metadata": {},
   "outputs": [
    {
     "data": {
      "text/html": [
       "<div>\n",
       "<style scoped>\n",
       "    .dataframe tbody tr th:only-of-type {\n",
       "        vertical-align: middle;\n",
       "    }\n",
       "\n",
       "    .dataframe tbody tr th {\n",
       "        vertical-align: top;\n",
       "    }\n",
       "\n",
       "    .dataframe thead th {\n",
       "        text-align: right;\n",
       "    }\n",
       "</style>\n",
       "<table border=\"1\" class=\"dataframe\">\n",
       "  <thead>\n",
       "    <tr style=\"text-align: right;\">\n",
       "      <th></th>\n",
       "      <th>Country</th>\n",
       "      <th>VC Name</th>\n",
       "      <th>Announced Date</th>\n",
       "      <th>Organization Name</th>\n",
       "      <th>Lead Investor</th>\n",
       "      <th>Funding Round</th>\n",
       "      <th>Money Raised</th>\n",
       "    </tr>\n",
       "  </thead>\n",
       "  <tbody>\n",
       "    <tr>\n",
       "      <th>2</th>\n",
       "      <td>USA</td>\n",
       "      <td>Sequoia Capital</td>\n",
       "      <td>Jul 7, 2020</td>\n",
       "      <td>mmhmm</td>\n",
       "      <td>Yes</td>\n",
       "      <td>Seed Round - mmhmm</td>\n",
       "      <td>$4.5M</td>\n",
       "    </tr>\n",
       "    <tr>\n",
       "      <th>4</th>\n",
       "      <td>USA</td>\n",
       "      <td>Sequoia Capital</td>\n",
       "      <td>Jun 17, 2020</td>\n",
       "      <td>Twin Health</td>\n",
       "      <td>Yes</td>\n",
       "      <td>Series A - Twin Health</td>\n",
       "      <td>$18M</td>\n",
       "    </tr>\n",
       "    <tr>\n",
       "      <th>6</th>\n",
       "      <td>USA</td>\n",
       "      <td>Sequoia Capital</td>\n",
       "      <td>Jun 1, 2020</td>\n",
       "      <td>Vara</td>\n",
       "      <td>Yes</td>\n",
       "      <td>Pre Seed Round - Vara</td>\n",
       "      <td>—</td>\n",
       "    </tr>\n",
       "    <tr>\n",
       "      <th>7</th>\n",
       "      <td>USA</td>\n",
       "      <td>Sequoia Capital</td>\n",
       "      <td>May 27, 2020</td>\n",
       "      <td>CaptivateIQ</td>\n",
       "      <td>Yes</td>\n",
       "      <td>Series A - CaptivateIQ</td>\n",
       "      <td>$13M</td>\n",
       "    </tr>\n",
       "    <tr>\n",
       "      <th>12</th>\n",
       "      <td>USA</td>\n",
       "      <td>Sequoia Capital</td>\n",
       "      <td>May 13, 2020</td>\n",
       "      <td>Mos</td>\n",
       "      <td>Yes</td>\n",
       "      <td>Series A - Mos</td>\n",
       "      <td>$13.3M</td>\n",
       "    </tr>\n",
       "  </tbody>\n",
       "</table>\n",
       "</div>"
      ],
      "text/plain": [
       "   Country          VC Name Announced Date Organization Name Lead Investor  \\\n",
       "2      USA  Sequoia Capital    Jul 7, 2020             mmhmm           Yes   \n",
       "4      USA  Sequoia Capital   Jun 17, 2020       Twin Health           Yes   \n",
       "6      USA  Sequoia Capital    Jun 1, 2020              Vara           Yes   \n",
       "7      USA  Sequoia Capital   May 27, 2020       CaptivateIQ           Yes   \n",
       "12     USA  Sequoia Capital   May 13, 2020               Mos           Yes   \n",
       "\n",
       "             Funding Round Money Raised  \n",
       "2       Seed Round - mmhmm        $4.5M  \n",
       "4   Series A - Twin Health         $18M  \n",
       "6    Pre Seed Round - Vara            —  \n",
       "7   Series A - CaptivateIQ         $13M  \n",
       "12          Series A - Mos       $13.3M  "
      ]
     },
     "execution_count": 77,
     "metadata": {},
     "output_type": "execute_result"
    }
   ],
   "source": [
    "usa_lead = usa[(usa['Lead Investor'] == 'Yes')]\n",
    "usa_lead.head()"
   ]
  },
  {
   "cell_type": "code",
   "execution_count": 80,
   "metadata": {},
   "outputs": [
    {
     "data": {
      "text/plain": [
       "{'A16Z': 34,\n",
       " 'Accel': 24,\n",
       " 'Index Ventures': 19,\n",
       " 'Sequoia Capital': 14,\n",
       " 'Lightspeed Venture Partners': 13,\n",
       " 'Khosla Ventures': 13,\n",
       " 'Softbank Vision Fund': 10,\n",
       " 'Bessemer Venture Partners': 9,\n",
       " 'New Enterprise Associates': 7,\n",
       " 'Founders Fund': 7,\n",
       " 'First Round Capital': 6,\n",
       " 'Union Square Ventures': 5,\n",
       " 'Floodgate': 5,\n",
       " 'Greylock': 3,\n",
       " 'Benchmark': 1}"
      ]
     },
     "execution_count": 80,
     "metadata": {},
     "output_type": "execute_result"
    }
   ],
   "source": [
    "usa_lead_investments = dict(usa_lead['VC Name'].value_counts())\n",
    "usa_lead_investments"
   ]
  },
  {
   "cell_type": "code",
   "execution_count": 81,
   "metadata": {},
   "outputs": [
    {
     "data": {
      "text/plain": [
       "{'A16Z': 0.6538461538461539,\n",
       " 'Accel': 0.4067796610169492,\n",
       " 'Index Ventures': 0.5135135135135135,\n",
       " 'Sequoia Capital': 0.35,\n",
       " 'Lightspeed Venture Partners': 0.3170731707317073,\n",
       " 'Khosla Ventures': 0.35135135135135137,\n",
       " 'Softbank Vision Fund': 0.7142857142857143,\n",
       " 'Bessemer Venture Partners': 0.391304347826087,\n",
       " 'New Enterprise Associates': 0.3181818181818182,\n",
       " 'Founders Fund': 0.25925925925925924,\n",
       " 'First Round Capital': 0.3333333333333333,\n",
       " 'Union Square Ventures': 0.3333333333333333,\n",
       " 'Floodgate': 0.4166666666666667,\n",
       " 'Greylock': 0.21428571428571427,\n",
       " 'Benchmark': 0.16666666666666666}"
      ]
     },
     "execution_count": 81,
     "metadata": {},
     "output_type": "execute_result"
    }
   ],
   "source": [
    "usa_lead_percentage = dict((k, float(usa_lead_investments[k]) / usa_investments[k]) for k in usa_lead_investments)\n",
    "usa_lead_percentage"
   ]
  },
  {
   "cell_type": "code",
   "execution_count": 82,
   "metadata": {},
   "outputs": [
    {
     "data": {
      "text/plain": [
       "[('Softbank Vision Fund', 0.7142857142857143),\n",
       " ('A16Z', 0.6538461538461539),\n",
       " ('Index Ventures', 0.5135135135135135),\n",
       " ('Floodgate', 0.4166666666666667),\n",
       " ('Accel', 0.4067796610169492),\n",
       " ('Bessemer Venture Partners', 0.391304347826087),\n",
       " ('Khosla Ventures', 0.35135135135135137),\n",
       " ('Sequoia Capital', 0.35),\n",
       " ('First Round Capital', 0.3333333333333333),\n",
       " ('Union Square Ventures', 0.3333333333333333),\n",
       " ('New Enterprise Associates', 0.3181818181818182),\n",
       " ('Lightspeed Venture Partners', 0.3170731707317073),\n",
       " ('Founders Fund', 0.25925925925925924),\n",
       " ('Greylock', 0.21428571428571427),\n",
       " ('Benchmark', 0.16666666666666666)]"
      ]
     },
     "execution_count": 82,
     "metadata": {},
     "output_type": "execute_result"
    }
   ],
   "source": [
    "usa_lead_percentage_sorted = sorted(usa_lead_percentage.items(), key=lambda x: x[1], reverse=True)\n",
    "usa_lead_percentage_sorted"
   ]
  },
  {
   "cell_type": "code",
   "execution_count": 30,
   "metadata": {},
   "outputs": [
    {
     "data": {
      "text/html": [
       "<div>\n",
       "<style scoped>\n",
       "    .dataframe tbody tr th:only-of-type {\n",
       "        vertical-align: middle;\n",
       "    }\n",
       "\n",
       "    .dataframe tbody tr th {\n",
       "        vertical-align: top;\n",
       "    }\n",
       "\n",
       "    .dataframe thead th {\n",
       "        text-align: right;\n",
       "    }\n",
       "</style>\n",
       "<table border=\"1\" class=\"dataframe\">\n",
       "  <thead>\n",
       "    <tr style=\"text-align: right;\">\n",
       "      <th></th>\n",
       "      <th>Country</th>\n",
       "      <th>VC Name</th>\n",
       "      <th>Announced Date</th>\n",
       "      <th>Organization Name</th>\n",
       "      <th>Lead Investor</th>\n",
       "      <th>Funding Round</th>\n",
       "      <th>Money Raised</th>\n",
       "    </tr>\n",
       "  </thead>\n",
       "  <tbody>\n",
       "    <tr>\n",
       "      <th>418</th>\n",
       "      <td>China</td>\n",
       "      <td>Sequoia Capital China</td>\n",
       "      <td>Jul 15, 2020</td>\n",
       "      <td>TUNGEE</td>\n",
       "      <td>Yes</td>\n",
       "      <td>Series B - TUNGEE</td>\n",
       "      <td>CN¥120M</td>\n",
       "    </tr>\n",
       "    <tr>\n",
       "      <th>419</th>\n",
       "      <td>China</td>\n",
       "      <td>Sequoia Capital China</td>\n",
       "      <td>Jul 13, 2020</td>\n",
       "      <td>AccuMedical</td>\n",
       "      <td>Yes</td>\n",
       "      <td>Series B - AccuMedical</td>\n",
       "      <td>CN¥100M</td>\n",
       "    </tr>\n",
       "    <tr>\n",
       "      <th>420</th>\n",
       "      <td>China</td>\n",
       "      <td>Sequoia Capital China</td>\n",
       "      <td>Jul 8, 2020</td>\n",
       "      <td>Kuaidian Yuedu</td>\n",
       "      <td>Yes</td>\n",
       "      <td>Series C - Kuaidian Yuedu</td>\n",
       "      <td>$100M</td>\n",
       "    </tr>\n",
       "    <tr>\n",
       "      <th>424</th>\n",
       "      <td>China</td>\n",
       "      <td>Sequoia Capital China</td>\n",
       "      <td>Jun 22, 2020</td>\n",
       "      <td>Canva</td>\n",
       "      <td>Yes</td>\n",
       "      <td>Venture Round - Canva</td>\n",
       "      <td>$60M</td>\n",
       "    </tr>\n",
       "    <tr>\n",
       "      <th>426</th>\n",
       "      <td>China</td>\n",
       "      <td>Sequoia Capital China</td>\n",
       "      <td>May 27, 2020</td>\n",
       "      <td>Atom Bioscience &amp; Pharmaceutical</td>\n",
       "      <td>Yes</td>\n",
       "      <td>Series B - Atom Bioscience &amp; Pharmaceutical</td>\n",
       "      <td>$30M</td>\n",
       "    </tr>\n",
       "  </tbody>\n",
       "</table>\n",
       "</div>"
      ],
      "text/plain": [
       "    Country                VC Name Announced Date  \\\n",
       "418   China  Sequoia Capital China   Jul 15, 2020   \n",
       "419   China  Sequoia Capital China   Jul 13, 2020   \n",
       "420   China  Sequoia Capital China    Jul 8, 2020   \n",
       "424   China  Sequoia Capital China   Jun 22, 2020   \n",
       "426   China  Sequoia Capital China   May 27, 2020   \n",
       "\n",
       "                    Organization Name Lead Investor  \\\n",
       "418                            TUNGEE           Yes   \n",
       "419                       AccuMedical           Yes   \n",
       "420                    Kuaidian Yuedu           Yes   \n",
       "424                             Canva           Yes   \n",
       "426  Atom Bioscience & Pharmaceutical           Yes   \n",
       "\n",
       "                                   Funding Round Money Raised  \n",
       "418                            Series B - TUNGEE      CN¥120M  \n",
       "419                       Series B - AccuMedical      CN¥100M  \n",
       "420                    Series C - Kuaidian Yuedu        $100M  \n",
       "424                        Venture Round - Canva         $60M  \n",
       "426  Series B - Atom Bioscience & Pharmaceutical         $30M  "
      ]
     },
     "execution_count": 30,
     "metadata": {},
     "output_type": "execute_result"
    }
   ],
   "source": [
    "#China lead investors\n",
    "china_lead = china[(china['Lead Investor'] == 'Yes')]\n",
    "china_lead.head()"
   ]
  },
  {
   "cell_type": "code",
   "execution_count": 61,
   "metadata": {},
   "outputs": [
    {
     "data": {
      "text/plain": [
       "{'Sequoia Capital China': 16,\n",
       " 'Qiming Venture Partners': 15,\n",
       " 'GGV Capital': 14,\n",
       " 'Hillhouse Capital Group': 11,\n",
       " 'GSR Ventures': 6,\n",
       " 'Matrix Partners China': 5,\n",
       " 'IDG Capital': 5,\n",
       " 'Shenzhen Capital Group': 4,\n",
       " 'Legend Capital': 4,\n",
       " 'Source Code Capital': 3,\n",
       " 'Gaorong Capital': 2,\n",
       " 'Shunwei Capital': 1,\n",
       " 'ZhenFund': 1}"
      ]
     },
     "execution_count": 61,
     "metadata": {},
     "output_type": "execute_result"
    }
   ],
   "source": [
    "china_lead_investments = dict(china_lead['VC Name'].value_counts())\n",
    "china_lead_investments"
   ]
  },
  {
   "cell_type": "code",
   "execution_count": 68,
   "metadata": {},
   "outputs": [
    {
     "data": {
      "text/plain": [
       "{'Sequoia Capital China': 0.42105263157894735,\n",
       " 'Qiming Venture Partners': 0.39473684210526316,\n",
       " 'GGV Capital': 0.4375,\n",
       " 'Hillhouse Capital Group': 0.5,\n",
       " 'GSR Ventures': 0.42857142857142855,\n",
       " 'Matrix Partners China': 0.7142857142857143,\n",
       " 'IDG Capital': 0.45454545454545453,\n",
       " 'Shenzhen Capital Group': 0.5,\n",
       " 'Legend Capital': 0.36363636363636365,\n",
       " 'Source Code Capital': 0.42857142857142855,\n",
       " 'Gaorong Capital': 0.5,\n",
       " 'Shunwei Capital': 0.14285714285714285,\n",
       " 'ZhenFund': 0.0625}"
      ]
     },
     "execution_count": 68,
     "metadata": {},
     "output_type": "execute_result"
    }
   ],
   "source": [
    "china_lead_percentage = dict((k, float(china_lead_investments[k]) / china_investments[k]) for k in china_lead_investments)\n",
    "china_lead_percentage"
   ]
  },
  {
   "cell_type": "code",
   "execution_count": 69,
   "metadata": {},
   "outputs": [
    {
     "data": {
      "text/plain": [
       "[('Matrix Partners China', 0.7142857142857143),\n",
       " ('Hillhouse Capital Group', 0.5),\n",
       " ('Shenzhen Capital Group', 0.5),\n",
       " ('Gaorong Capital', 0.5),\n",
       " ('IDG Capital', 0.45454545454545453),\n",
       " ('GGV Capital', 0.4375),\n",
       " ('GSR Ventures', 0.42857142857142855),\n",
       " ('Source Code Capital', 0.42857142857142855),\n",
       " ('Sequoia Capital China', 0.42105263157894735),\n",
       " ('Qiming Venture Partners', 0.39473684210526316),\n",
       " ('Legend Capital', 0.36363636363636365),\n",
       " ('Shunwei Capital', 0.14285714285714285),\n",
       " ('ZhenFund', 0.0625)]"
      ]
     },
     "execution_count": 69,
     "metadata": {},
     "output_type": "execute_result"
    }
   ],
   "source": [
    "china_lead_percentage_sorted = sorted(china_lead_percentage.items(), key=lambda x: x[1], reverse=True)\n",
    "china_lead_percentage_sorted"
   ]
  },
  {
   "cell_type": "code",
   "execution_count": 97,
   "metadata": {},
   "outputs": [
    {
     "data": {
      "text/html": [
       "<div>\n",
       "<style scoped>\n",
       "    .dataframe tbody tr th:only-of-type {\n",
       "        vertical-align: middle;\n",
       "    }\n",
       "\n",
       "    .dataframe tbody tr th {\n",
       "        vertical-align: top;\n",
       "    }\n",
       "\n",
       "    .dataframe thead th {\n",
       "        text-align: right;\n",
       "    }\n",
       "</style>\n",
       "<table border=\"1\" class=\"dataframe\">\n",
       "  <thead>\n",
       "    <tr style=\"text-align: right;\">\n",
       "      <th></th>\n",
       "      <th>Country</th>\n",
       "      <th>VC Name</th>\n",
       "      <th>Announced Date</th>\n",
       "      <th>Organization Name</th>\n",
       "      <th>Lead Investor</th>\n",
       "      <th>Funding Round</th>\n",
       "      <th>Money Raised</th>\n",
       "    </tr>\n",
       "  </thead>\n",
       "  <tbody>\n",
       "    <tr>\n",
       "      <th>522</th>\n",
       "      <td>China</td>\n",
       "      <td>Matrix Partners China</td>\n",
       "      <td>Jun 5, 2020</td>\n",
       "      <td>Nebula Graph</td>\n",
       "      <td>—</td>\n",
       "      <td>Seed Round - Nebula Graph</td>\n",
       "      <td>$8M</td>\n",
       "    </tr>\n",
       "    <tr>\n",
       "      <th>523</th>\n",
       "      <td>China</td>\n",
       "      <td>Matrix Partners China</td>\n",
       "      <td>May 19, 2020</td>\n",
       "      <td>Simple Love</td>\n",
       "      <td>Yes</td>\n",
       "      <td>Series A - Simple Love</td>\n",
       "      <td>CN¥400M</td>\n",
       "    </tr>\n",
       "    <tr>\n",
       "      <th>524</th>\n",
       "      <td>China</td>\n",
       "      <td>Matrix Partners China</td>\n",
       "      <td>Apr 7, 2020</td>\n",
       "      <td>Lightelligence</td>\n",
       "      <td>Yes</td>\n",
       "      <td>Series A - Lightelligence</td>\n",
       "      <td>$26M</td>\n",
       "    </tr>\n",
       "    <tr>\n",
       "      <th>525</th>\n",
       "      <td>China</td>\n",
       "      <td>Matrix Partners China</td>\n",
       "      <td>Apr 2, 2020</td>\n",
       "      <td>Rgenta Therapeutics</td>\n",
       "      <td>Yes</td>\n",
       "      <td>Seed Round - Rgenta Therapeutics</td>\n",
       "      <td>$20M</td>\n",
       "    </tr>\n",
       "    <tr>\n",
       "      <th>526</th>\n",
       "      <td>China</td>\n",
       "      <td>Matrix Partners China</td>\n",
       "      <td>Mar 17, 2020</td>\n",
       "      <td>Tongcheng Bills Network</td>\n",
       "      <td>—</td>\n",
       "      <td>Series B - Tongcheng Bills Network</td>\n",
       "      <td>CN¥150M</td>\n",
       "    </tr>\n",
       "    <tr>\n",
       "      <th>527</th>\n",
       "      <td>China</td>\n",
       "      <td>Matrix Partners China</td>\n",
       "      <td>Mar 12, 2020</td>\n",
       "      <td>Starfield Food &amp; Science Technology</td>\n",
       "      <td>Yes</td>\n",
       "      <td>Angel Round - Starfield Food &amp; Science Technology</td>\n",
       "      <td>—</td>\n",
       "    </tr>\n",
       "    <tr>\n",
       "      <th>528</th>\n",
       "      <td>China</td>\n",
       "      <td>Matrix Partners China</td>\n",
       "      <td>Feb 28, 2020</td>\n",
       "      <td>Feiyu</td>\n",
       "      <td>Yes</td>\n",
       "      <td>Series A - Feiyu</td>\n",
       "      <td>$20M</td>\n",
       "    </tr>\n",
       "  </tbody>\n",
       "</table>\n",
       "</div>"
      ],
      "text/plain": [
       "    Country                VC Name Announced Date  \\\n",
       "522   China  Matrix Partners China    Jun 5, 2020   \n",
       "523   China  Matrix Partners China   May 19, 2020   \n",
       "524   China  Matrix Partners China    Apr 7, 2020   \n",
       "525   China  Matrix Partners China    Apr 2, 2020   \n",
       "526   China  Matrix Partners China   Mar 17, 2020   \n",
       "527   China  Matrix Partners China   Mar 12, 2020   \n",
       "528   China  Matrix Partners China   Feb 28, 2020   \n",
       "\n",
       "                       Organization Name Lead Investor  \\\n",
       "522                         Nebula Graph             —   \n",
       "523                          Simple Love           Yes   \n",
       "524                       Lightelligence           Yes   \n",
       "525                  Rgenta Therapeutics           Yes   \n",
       "526              Tongcheng Bills Network             —   \n",
       "527  Starfield Food & Science Technology           Yes   \n",
       "528                                Feiyu           Yes   \n",
       "\n",
       "                                         Funding Round Money Raised  \n",
       "522                          Seed Round - Nebula Graph          $8M  \n",
       "523                             Series A - Simple Love      CN¥400M  \n",
       "524                          Series A - Lightelligence         $26M  \n",
       "525                   Seed Round - Rgenta Therapeutics         $20M  \n",
       "526                 Series B - Tongcheng Bills Network      CN¥150M  \n",
       "527  Angel Round - Starfield Food & Science Technology            —  \n",
       "528                                   Series A - Feiyu         $20M  "
      ]
     },
     "execution_count": 97,
     "metadata": {},
     "output_type": "execute_result"
    }
   ],
   "source": [
    "#Average check sizes leader, follower, in the middle\n",
    "matrix = china[(china['VC Name'] == 'Matrix Partners China')]\n",
    "matrix"
   ]
  },
  {
   "cell_type": "markdown",
   "metadata": {},
   "source": [
    "# Startups Invested by 3 or more VCs\n"
   ]
  },
  {
   "cell_type": "code",
   "execution_count": 120,
   "metadata": {},
   "outputs": [
    {
     "data": {
      "text/plain": [
       "Vedantu           5\n",
       "Figma             5\n",
       "Run The World     5\n",
       "Kuaidian Yuedu    4\n",
       "Karius            3\n",
       "Q Bio             3\n",
       "Personio          3\n",
       "Sensors Data      3\n",
       "DEEPEXI           3\n",
       "Cockroach Labs    3\n",
       "PROPS             3\n",
       "Netskope          3\n",
       "Siren             3\n",
       "Encootech         3\n",
       "Yuanfudao         2\n",
       "Name: Organization Name, dtype: int64"
      ]
     },
     "execution_count": 120,
     "metadata": {},
     "output_type": "execute_result"
    }
   ],
   "source": [
    "df['Organization Name'].value_counts().head(15)"
   ]
  },
  {
   "cell_type": "code",
   "execution_count": 116,
   "metadata": {
    "scrolled": true
   },
   "outputs": [
    {
     "data": {
      "text/html": [
       "<div>\n",
       "<style scoped>\n",
       "    .dataframe tbody tr th:only-of-type {\n",
       "        vertical-align: middle;\n",
       "    }\n",
       "\n",
       "    .dataframe tbody tr th {\n",
       "        vertical-align: top;\n",
       "    }\n",
       "\n",
       "    .dataframe thead th {\n",
       "        text-align: right;\n",
       "    }\n",
       "</style>\n",
       "<table border=\"1\" class=\"dataframe\">\n",
       "  <thead>\n",
       "    <tr style=\"text-align: right;\">\n",
       "      <th></th>\n",
       "      <th>Country</th>\n",
       "      <th>VC Name</th>\n",
       "      <th>Announced Date</th>\n",
       "      <th>Organization Name</th>\n",
       "      <th>Lead Investor</th>\n",
       "      <th>Funding Round</th>\n",
       "      <th>Money Raised</th>\n",
       "    </tr>\n",
       "  </thead>\n",
       "  <tbody>\n",
       "    <tr>\n",
       "      <th>266</th>\n",
       "      <td>USA</td>\n",
       "      <td>Accel</td>\n",
       "      <td>Jul 15, 2020</td>\n",
       "      <td>Vedantu</td>\n",
       "      <td>—</td>\n",
       "      <td>Series D - Vedantu</td>\n",
       "      <td>$100M</td>\n",
       "    </tr>\n",
       "    <tr>\n",
       "      <th>314</th>\n",
       "      <td>USA</td>\n",
       "      <td>Accel</td>\n",
       "      <td>Feb 13, 2020</td>\n",
       "      <td>Vedantu</td>\n",
       "      <td>—</td>\n",
       "      <td>Series C - Vedantu</td>\n",
       "      <td>$24M</td>\n",
       "    </tr>\n",
       "    <tr>\n",
       "      <th>473</th>\n",
       "      <td>China</td>\n",
       "      <td>Legend Capital</td>\n",
       "      <td>Jul 15, 2020</td>\n",
       "      <td>Vedantu</td>\n",
       "      <td>—</td>\n",
       "      <td>Series D - Vedantu</td>\n",
       "      <td>$100M</td>\n",
       "    </tr>\n",
       "    <tr>\n",
       "      <th>564</th>\n",
       "      <td>China</td>\n",
       "      <td>GGV Capital</td>\n",
       "      <td>Jul 15, 2020</td>\n",
       "      <td>Vedantu</td>\n",
       "      <td>—</td>\n",
       "      <td>Series D - Vedantu</td>\n",
       "      <td>$100M</td>\n",
       "    </tr>\n",
       "    <tr>\n",
       "      <th>591</th>\n",
       "      <td>China</td>\n",
       "      <td>GGV Capital</td>\n",
       "      <td>Feb 13, 2020</td>\n",
       "      <td>Vedantu</td>\n",
       "      <td>Yes</td>\n",
       "      <td>Series C - Vedantu</td>\n",
       "      <td>$24M</td>\n",
       "    </tr>\n",
       "  </tbody>\n",
       "</table>\n",
       "</div>"
      ],
      "text/plain": [
       "    Country         VC Name Announced Date Organization Name Lead Investor  \\\n",
       "266     USA           Accel   Jul 15, 2020           Vedantu             —   \n",
       "314     USA           Accel   Feb 13, 2020           Vedantu             —   \n",
       "473   China  Legend Capital   Jul 15, 2020           Vedantu             —   \n",
       "564   China     GGV Capital   Jul 15, 2020           Vedantu             —   \n",
       "591   China     GGV Capital   Feb 13, 2020           Vedantu           Yes   \n",
       "\n",
       "          Funding Round Money Raised  \n",
       "266  Series D - Vedantu        $100M  \n",
       "314  Series C - Vedantu         $24M  \n",
       "473  Series D - Vedantu        $100M  \n",
       "564  Series D - Vedantu        $100M  \n",
       "591  Series C - Vedantu         $24M  "
      ]
     },
     "execution_count": 116,
     "metadata": {},
     "output_type": "execute_result"
    }
   ],
   "source": [
    "# Vedantu: Indian Interactive Online tutoring platform\n",
    "vedantu = df[df['Organization Name'] == 'Vedantu']\n",
    "vedantu"
   ]
  },
  {
   "cell_type": "code",
   "execution_count": 112,
   "metadata": {},
   "outputs": [
    {
     "data": {
      "text/html": [
       "<div>\n",
       "<style scoped>\n",
       "    .dataframe tbody tr th:only-of-type {\n",
       "        vertical-align: middle;\n",
       "    }\n",
       "\n",
       "    .dataframe tbody tr th {\n",
       "        vertical-align: top;\n",
       "    }\n",
       "\n",
       "    .dataframe thead th {\n",
       "        text-align: right;\n",
       "    }\n",
       "</style>\n",
       "<table border=\"1\" class=\"dataframe\">\n",
       "  <thead>\n",
       "    <tr style=\"text-align: right;\">\n",
       "  
