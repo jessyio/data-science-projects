{
 "cells": [
  {
   "cell_type": "code",
   "execution_count": 3,
   "metadata": {},
   "outputs": [
    {
     "data": {
      "text/plain": [
       "(648, 7)"
      ]
     },
     "execution_count": 3,
     "metadata": {},
     "output_type": "execute_result"
    }
   ],
   "source": [
    "import pandas as pd\n",
    "import numpy as np\n",
    "import matplotlib.pyplot as plt\n",
    " \n",
    "df = pd.read_csv(r\"C:\\Users\\owner\\Downloads\\VC_Pandemic_Investments.csv\", na_values = ' ?')\n",
    "\n",
    "df.head()\n",
    "df.shape"
   ]
  },
  {
   "cell_type": "code",
   "execution_count": 4,
   "metadata": {},
   "outputs": [
    {
     "data": {
      "text/html": [
       "<div>\n",
       "<style scoped>\n",
       "    .dataframe tbody tr th:only-of-type {\n",
       "        vertical-align: middle;\n",
       "    }\n",
       "\n",
       "    .dataframe tbody tr th {\n",
       "        vertical-align: top;\n",
       "    }\n",
       "\n",
       "    .dataframe thead th {\n",
       "        text-align: right;\n",
       "    }\n",
       "</style>\n",
       "<table border=\"1\" class=\"dataframe\">\n",
       "  <thead>\n",
       "    <tr style=\"text-align: right;\">\n",
       "      <th></th>\n",
       "      <th>Country</th>\n",
       "      <th>VC Name</th>\n",
       "      <th>Announced Date</th>\n",
       "      <th>Organization Name</th>\n",
       "      <th>Lead Investor</th>\n",
       "      <th>Funding Round</th>\n",
       "      <th>Money Raised</th>\n",
       "    </tr>\n",
       "  </thead>\n",
       "  <tbody>\n",
       "    <tr>\n",
       "      <th>417</th>\n",
       "      <td>China</td>\n",
       "      <td>Sequoia Capital China</td>\n",
       "      <td>Jul 20, 2020</td>\n",
       "      <td>Xiaopeng Motors</td>\n",
       "      <td>—</td>\n",
       "      <td>Series C - Xiaopeng Motors</td>\n",
       "      <td>$500M</td>\n",
       "    </tr>\n",
       "    <tr>\n",
       "      <th>418</th>\n",
       "      <td>China</td>\n",
       "      <td>Sequoia Capital China</td>\n",
       "      <td>Jul 15, 2020</td>\n",
       "      <td>TUNGEE</td>\n",
       "      <td>Yes</td>\n",
       "      <td>Series B - TUNGEE</td>\n",
       "      <td>CN¥120M</td>\n",
       "    </tr>\n",
       "    <tr>\n",
       "      <th>419</th>\n",
       "      <td>China</td>\n",
       "      <td>Sequoia Capital China</td>\n",
       "      <td>Jul 13, 2020</td>\n",
       "      <td>AccuMedical</td>\n",
       "      <td>Yes</td>\n",
       "      <td>Series B - AccuMedical</td>\n",
       "      <td>CN¥100M</td>\n",
       "    </tr>\n",
       "    <tr>\n",
       "      <th>420</th>\n",
       "      <td>China</td>\n",
       "      <td>Sequoia Capital China</td>\n",
       "      <td>Jul 8, 2020</td>\n",
       "      <td>Kuaidian Yuedu</td>\n",
       "      <td>Yes</td>\n",
       "      <td>Series C - Kuaidian Yuedu</td>\n",
       "      <td>$100M</td>\n",
       "    </tr>\n",
       "    <tr>\n",
       "      <th>421</th>\n",
       "      <td>China</td>\n",
       "      <td>Sequoia Capital China</td>\n",
       "      <td>Jun 29, 2020</td>\n",
       "      <td>Zuoyebang</td>\n",
       "      <td>—</td>\n",
       "      <td>Series E - Zuoyebang</td>\n",
       "      <td>$750M</td>\n",
       "    </tr>\n",
       "  </tbody>\n",
       "</table>\n",
       "</div>"
      ],
      "text/plain": [
       "    Country                VC Name Announced Date Organization Name  \\\n",
       "417   China  Sequoia Capital China   Jul 20, 2020   Xiaopeng Motors   \n",
       "418   China  Sequoia Capital China   Jul 15, 2020            TUNGEE   \n",
       "419   China  Sequoia Capital China   Jul 13, 2020       AccuMedical   \n",
       "420   China  Sequoia Capital China    Jul 8, 2020    Kuaidian Yuedu   \n",
       "421   China  Sequoia Capital China   Jun 29, 2020         Zuoyebang   \n",
       "\n",
       "    Lead Investor               Funding Round Money Raised  \n",
       "417             —  Series C - Xiaopeng Motors        $500M  \n",
       "418           Yes           Series B - TUNGEE      CN¥120M  \n",
       "419           Yes      Series B - AccuMedical      CN¥100M  \n",
       "420           Yes   Series C - Kuaidian Yuedu        $100M  \n",
       "421             —        Series E - Zuoyebang        $750M  "
      ]
     },
     "execution_count": 4,
     "metadata": {},
     "output_type": "execute_result"
    }
   ],
   "source": [
    "china = df[(df['Country'] == 'China')]\n",
    "\n",
    "china.head()"
   ]
  },
  {
   "cell_type": "code",
   "execution_count": 5,
   "metadata": {},
   "outputs": [
    {
     "data": {
      "text/html": [
       "<div>\n",
       "<style scoped>\n",
       "    .dataframe tbody tr th:only-of-type {\n",
       "        vertical-align: middle;\n",
       "    }\n",
       "\n",
       "    .dataframe tbody tr th {\n",
       "        vertical-align: top;\n",
       "    }\n",
       "\n",
       "    .dataframe thead th {\n",
       "        text-align: right;\n",
       "    }\n",
       "</style>\n",
       "<table border=\"1\" class=\"dataframe\">\n",
       "  <thead>\n",
       "    <tr style=\"text-align: right;\">\n",
       "      <th></th>\n",
       "      <th>Country</th>\n",
       "      <th>VC Name</th>\n",
       "      <th>Announced Date</th>\n",
       "      <th>Organization Name</th>\n",
       "      <th>Lead Investor</th>\n",
       "      <th>Funding Round</th>\n",
       "      <th>Money Raised</th>\n",
       "    </tr>\n",
       "  </thead>\n",
       "  <tbody>\n",
       "    <tr>\n",
       "      <th>412</th>\n",
       "      <td>USA</td>\n",
       "      <td>Bessemer Venture Partners</td>\n",
       "      <td>Mar 2, 2020</td>\n",
       "      <td>Rigetti Computing</td>\n",
       "      <td>Yes</td>\n",
       "      <td>Series D - Rigetti Computing</td>\n",
       "      <td>$71M</td>\n",
       "    </tr>\n",
       "    <tr>\n",
       "      <th>413</th>\n",
       "      <td>USA</td>\n",
       "      <td>Bessemer Venture Partners</td>\n",
       "      <td>Feb 14, 2020</td>\n",
       "      <td>Toast</td>\n",
       "      <td>Yes</td>\n",
       "      <td>Series F - Toast</td>\n",
       "      <td>$400M</td>\n",
       "    </tr>\n",
       "    <tr>\n",
       "      <th>414</th>\n",
       "      <td>USA</td>\n",
       "      <td>Bessemer Venture Partners</td>\n",
       "      <td>Feb 4, 2020</td>\n",
       "      <td>Hinge Health</td>\n",
       "      <td>Yes</td>\n",
       "      <td>Series C - Hinge Health</td>\n",
       "      <td>$90M</td>\n",
       "    </tr>\n",
       "    <tr>\n",
       "      <th>415</th>\n",
       "      <td>USA</td>\n",
       "      <td>Bessemer Venture Partners</td>\n",
       "      <td>Jan 31, 2020</td>\n",
       "      <td>Breathwrk</td>\n",
       "      <td>—</td>\n",
       "      <td>Seed Round - Breathwrk</td>\n",
       "      <td>—</td>\n",
       "    </tr>\n",
       "    <tr>\n",
       "      <th>416</th>\n",
       "      <td>USA</td>\n",
       "      <td>Bessemer Venture Partners</td>\n",
       "      <td>Jan 21, 2020</td>\n",
       "      <td>Unito</td>\n",
       "      <td>Yes</td>\n",
       "      <td>Series A - Unito</td>\n",
       "      <td>$10.5M</td>\n",
       "    </tr>\n",
       "  </tbody>\n",
       "</table>\n",
       "</div>"
      ],
      "text/plain": [
       "    Country                    VC Name Announced Date  Organization Name  \\\n",
       "412     USA  Bessemer Venture Partners    Mar 2, 2020  Rigetti Computing   \n",
       "413     USA  Bessemer Venture Partners   Feb 14, 2020              Toast   \n",
       "414     USA  Bessemer Venture Partners    Feb 4, 2020       Hinge Health   \n",
       "415     USA  Bessemer Venture Partners   Jan 31, 2020          Breathwrk   \n",
       "416     USA  Bessemer Venture Partners   Jan 21, 2020              Unito   \n",
       "\n",
       "    Lead Investor                 Funding Round Money Raised  \n",
       "412           Yes  Series D - Rigetti Computing         $71M  \n",
       "413           Yes              Series F - Toast        $400M  \n",
       "414           Yes       Series C - Hinge Health         $90M  \n",
       "415             —        Seed Round - Breathwrk            —  \n",
       "416           Yes              Series A - Unito       $10.5M  "
      ]
     },
     "execution_count": 5,
     "metadata": {},
     "output_type": "execute_result"
    }
   ],
   "source": [
    "usa = df[(df['Country'] == 'USA')]\n",
    "\n",
    "usa.tail()"
   ]
  },
  {
   "cell_type": "markdown",
   "metadata": {},
   "source": [
    "# Most Optimistic and Conservative Investors US vs China\n",
    "## Who has the money?\n",
    "\n",
    "### For a better comparison, compare each firm with number of investment bets pre-pandemic"
   ]
  },
  {
   "cell_type": "code",
   "execution_count": 49,
   "metadata": {},
   "outputs": [
    {
     "data": {
      "text/plain": [
       "{'Accel': 59,\n",
       " 'A16Z': 52,\n",
       " 'Lightspeed Venture Partners': 41,\n",
       " 'Sequoia Capital': 40,\n",
       " 'Khosla Ventures': 37,\n",
       " 'Index Ventures': 37,\n",
       " 'Founders Fund': 27,\n",
       " 'Bessemer Venture Partners': 23,\n",
       " 'New Enterprise Associates': 22,\n",
       " 'First Round Capital': 18,\n",
       " 'Union Square Ventures': 15,\n",
       " 'Softbank Vision Fund': 14,\n",
       " 'Greylock': 14,\n",
       " 'Floodgate': 12,\n",
       " 'Benchmark': 6}"
      ]
     },
     "execution_count": 49,
     "metadata": {},
     "output_type": "execute_result"
    }
   ],
   "source": [
    "#most active US VCs\n",
    "usa_investments = dict(usa['VC Name'].value_counts())\n",
    "usa_investments"
   ]
  },
  {
   "cell_type": "code",
   "execution_count": 175,
   "metadata": {},
   "outputs": [
    {
     "data": {
      "image/png": "[encoded data removed]",
      "text/plain": [
       "<Figure size 800x480 with 1 Axes>"
      ]
     },
     "metadata": {},
     "output_type": "display_data"
    }
   ],
   "source": [
    "plt.figure(num=None, figsize=(10, 6), dpi=80, facecolor='w', edgecolor='w')\n",
    "plt.barh(range(len(usa_investments.keys())), usa_investments.values(), color='#89cff0')\n",
    "plt.yticks(range(len(usa_investments.values())), usa_investments.keys(), rotation=360)\n",
    "#plt.tight_layout()\n",
    "\n",
    "plt.xlabel('Number of Investments Made')\n",
    "plt.title(\"US VCs Number of Investments Post 01-20-20\", fontsize=17, y=1.05)\n",
    "\n",
    "plt.show()"
   ]
  },
  {
   "cell_type": "code",
   "execution_count": 52,
   "metadata": {},
   "outputs": [
    {
     "data": {
      "text/plain": [
       "{'Qiming Venture Partners': 38,\n",
       " 'Sequoia Capital China': 38,\n",
       " 'GGV Capital': 32,\n",
       " 'Hillhouse Capital Group': 22,\n",
       " 'ZhenFund': 16,\n",
       " 'GSR Ventures': 14,\n",
       " 'IDG Capital': 11,\n",
       " 'Legend Capital': 11,\n",
       " 'DCM Ventures': 9,\n",
       " 'Shenzhen Capital Group': 8,\n",
       " 'Matrix Partners China': 7,\n",
       " 'Shunwei Capital': 7,\n",
       " 'Morningside Venture Capital': 7,\n",
       " 'Source Code Capital': 7,\n",
       " 'Gaorong Capital': 4}"
      ]
     },
     "execution_count": 52,
     "metadata": {},
     "output_type": "execute_result"
    }
   ],
   "source": [
    "#most active chinese VCs\n",
    "china_investments = dict(china['VC Name'].value_counts())\n",
    "china_investments"
   ]
  },
  {
   "cell_type": "code",
   "execution_count": 176,
   "metadata": {},
   "outputs": [
    {
     "data": {
      "image/png": "[encoded data removed]",
      "text/plain": [
       "<Figure size 800x480 with 1 Axes>"
      ]
     },
     "metadata": {},
     "output_type": "display_data"
    }
   ],
   "source": [
    "plt.figure(num=None, figsize=(10, 6), dpi=80, facecolor='w', edgecolor='w')\n",
    "\n",
    "plt.barh(range(len(china_investments.keys())), china_investments.values(), color='#f4c2c2')\n",
    "\n",
    "plt.yticks(range(len(china_investments.values())), china_investments.keys(), rotation=360)\n",
    "\n",
    "plt.xlabel('Number of Investments Made')\n",
    "plt.title(\"Chinese VCs Number of Investments Post 01-20-20\", fontsize=17, y=1.05)\n",
    "\n",
    "#plt.tight_layout()\n",
    "plt.show()"
   ]
  },
  {
   "cell_type": "code",
   "execution_count": 191,
   "metadata": {},
   "outputs": [
    {
     "data": {
      "image/png": "[encoded data removed]",
      "text/plain": [
       "<Figure size 432x288 with 1 Axes>"
      ]
     },
     "metadata": {
      "needs_background": "light"
     },
     "output_type": "display_data"
    }
   ],
   "source": [
    "X = np.arange(len(china_investments))\n",
    "ax = plt.subplot(111)\n",
    "\n",
    "ax.bar(X-0.2, usa_investments.values(), width=0.5, color='#89cff0', align='center')\n",
    "#plt.xticks(range(len(usa_investments.values())), usa_investments.keys(), rotation=90)\n",
    "\n",
    "ax.bar(X, china_investments.values(), width=0.5, color='#f4c2c2', align='center')\n",
    "#plt.xticks(range(len(china_investments.values())))\n",
    "\n",
    "#could have done this more elegantly and automatically, but decided to rush it\n",
    "plt.xticks(np.arange(15), ['1', '2', '3', '4', '5', '6', '7', '8', '9', '10', '11', '12', '13', '14', '15']) \n",
    "\n",
    "ax.legend(('USA VCs','China VCs'))\n",
    "plt.title(\"US vs Chinese VCs Number of Investments Post 01-20-20\", fontsize=17, y=1.05)\n",
    "\n",
    "plt.xlabel('1st to 15th Most Active US vs Chinese VC')\n",
    "plt.ylabel('Number of Investments')\n",
    "\n",
    "plt.show()"
   ]
  },
  {
   "cell_type": "markdown",
   "metadata": {},
   "source": [
    "# The most active investors, who likes to be the lead (lead investment decisions/total investment made by single VC)\n"
   ]
  },
  {
   "cell_type": "code",
   "execution_count": 76,
   "metadata": {},
   "outputs": [
    {
     "data": {
      "text/plain": [
       "—      365\n",
       "Yes    257\n",
       "No      26\n",
       "Name: Lead Investor, dtype: int64"
      ]
     },
     "execution_count": 76,
     "metadata": {},
     "output_type": "execute_result"
    }
   ],
   "source": [
    "df['Lead Investor'].value_counts()"
   ]
  },
  {
   "cell_type": "code",
   "execution_count": 77,
   "metadata": {},
   "outputs": [
    {
     "data": {
      "text/html": [
       "<div>\n",
       "<style scoped>\n",
       "    .dataframe tbody tr th:only-of-type {\n",
       "        vertical-align: middle;\n",
       "    }\n",
       "\n",
       "    .dataframe tbody tr th {\n",
       "        vertical-align: top;\n",
       "    }\n",
       "\n",
       "    .dataframe thead th {\n",
       "        text-align: right;\n",
       "    }\n",
       "</style>\n",
       "<table border=\"1\" class=\"dataframe\">\n",
       "  <thead>\n",
       "    <tr style=\"text-align: right;\">\n",
       "      <th></th>\n",
       "      <th>Country</th>\n",
       "      <th>VC Name</th>\n",
       "      <th>Announced Date</th>\n",
       "      <th>Organization Name</th>\n",
       "      <th>Lead Investor</th>\n",
       "      <th>Funding Round</th>\n",
       "      <th>Money Raised</th>\n",
       "    </tr>\n",
       "  </thead>\n",
       "  <tbody>\n",
       "    <tr>\n",
       "      <th>2</th>\n",
       "      <td>USA</td>\n",
       "      <td>Sequoia Capital</td>\n",
       "      <td>Jul 7, 2020</td>\n",
       "      <td>mmhmm</td>\n",
       "      <td>Yes</td>\n",
       "      <td>Seed Round - mmhmm</td>\n",
       "      <td>$4.5M</td>\n",
       "    </tr>\n",
       "    <tr>\n",
       "      <th>4</th>\n",
       "      <td>USA</td>\n",
       "      <td>Sequoia Capital</td>\n",
       "      <td>Jun 17, 2020</td>\n",
       "      <td>Twin Health</td>\n",
       "      <td>Yes</td>\n",
       "      <td>Series A - Twin Health</td>\n",
       "      <td>$18M</td>\n",
       "    </tr>\n",
       "    <tr>\n",
       "      <th>6</th>\n",
       "      <td>USA</td>\n",
       "      <td>Sequoia Capital</td>\n",
       "      <td>Jun 1, 2020</td>\n",
       "      <td>Vara</td>\n",
       "      <td>Yes</td>\n",
       "      <td>Pre Seed Round - Vara</td>\n",
       "      <td>—</td>\n",
       "    </tr>\n",
       "    <tr>\n",
       "      <th>7</th>\n",
       "      <td>USA</td>\n",
       "      <td>Sequoia Capital</td>\n",
       "      <td>May 27, 2020</td>\n",
       "      <td>CaptivateIQ</td>\n",
       "      <td>Yes</td>\n",
       "      <td>Series A - CaptivateIQ</td>\n",
       "      <td>$13M</td>\n",
       "    </tr>\n",
       "    <tr>\n",
       "      <th>12</th>\n",
       "      <td>USA</td>\n",
       "      <td>Sequoia Capital</td>\n",
       "      <td>May 13, 2020</td>\n",
       "      <td>Mos</td>\n",
       "      <td>Yes</td>\n",
       "      <td>Series A - Mos</td>\n",
       "      <td>$13.3M</td>\n",
       "    </tr>\n",
       "  </tbody>\n",
       "</table>\n",
       "</div>"
      ],
      "text/plain": [
       "   Country          VC Name Announced Date Organization Name Lead Investor  \\\n",
       "2      USA  Sequoia Capital    Jul 7, 2020             mmhmm           Yes   \n",
       "4      USA  Sequoia Capital   Jun 17, 2020       Twin Health           Yes   \n",
       "6      USA  Sequoia Capital    Jun 1, 2020              Vara           Yes   \n",
       "7      USA  Sequoia Capital   May 27, 2020       CaptivateIQ           Yes   \n",
       "12     USA  Sequoia Capital   May 13, 2020               Mos           Yes   \n",
       "\n",
       "             Funding Round Money Raised  \n",
       "2       Seed Round - mmhmm        $4.5M  \n",
       "4   Series A - Twin Health         $18M  \n",
       "6    Pre Seed Round - Vara            —  \n",
       "7   Series A - CaptivateIQ         $13M  \n",
       "12          Series A - Mos       $13.3M  "
      ]
     },
     "execution_count": 77,
     "metadata": {},
     "output_type": "execute_result"
    }
   ],
   "source": [
    "usa_lead = usa[(usa['Lead Investor'] == 'Yes')]\n",
    "usa_lead.head()"
   ]
  },
  {
   "cell_type": "code",
   "execution_count": 80,
   "metadata": {},
   "outputs": [
    {
     "data": {
      "text/plain": [
       "{'A16Z': 34,\n",
       " 'Accel': 24,\n",
       " 'Index Ventures': 19,\n",
       " 'Sequoia Capital': 14,\n",
       " 'Lightspeed Venture Partners': 13,\n",
       " 'Khosla Ventures': 13,\n",
       " 'Softbank Vision Fund': 10,\n",
       " 'Bessemer Venture Partners': 9,\n",
       " 'New Enterprise Associates': 7,\n",
       " 'Founders Fund': 7,\n",
       " 'First Round Capital': 6,\n",
       " 'Union Square Ventures': 5,\n",
       " 'Floodgate': 5,\n",
       " 'Greylock': 3,\n",
       " 'Benchmark': 1}"
      ]
     },
     "execution_count": 80,
     "metadata": {},
     "output_type": "execute_result"
    }
   ],
   "source": [
    "usa_lead_investments = dict(usa_lead['VC Name'].value_counts())\n",
    "usa_lead_investments"
   ]
  },
  {
   "cell_type": "code",
   "execution_count": 81,
   "metadata": {},
   "outputs": [
    {
     "data": {
      "text/plain": [
       "{'A16Z': 0.6538461538461539,\n",
       " 'Accel': 0.4067796610169492,\n",
       " 'Index Ventures': 0.5135135135135135,\n",
       " 'Sequoia Capital': 0.35,\n",
       " 'Lightspeed Venture Partners': 0.3170731707317073,\n",
       " 'Khosla Ventures': 0.35135135135135137,\n",
       " 'Softbank Vision Fund': 0.7142857142857143,\n",
       " 'Bessemer Venture Partners': 0.391304347826087,\n",
       " 'New Enterprise Associates': 0.3181818181818182,\n",
       " 'Founders Fund': 0.25925925925925924,\n",
       " 'First Round Capital': 0.3333333333333333,\n",
       " 'Union Square Ventures': 0.3333333333333333,\n",
       " 'Floodgate': 0.4166666666666667,\n",
       " 'Greylock': 0.21428571428571427,\n",
       " 'Benchmark': 0.16666666666666666}"
      ]
     },
     "execution_count": 81,
     "metadata": {},
     "output_type": "execute_result"
    }
   ],
   "source": [
    "usa_lead_percentage = dict((k, float(usa_lead_investments[k]) / usa_investments[k]) for k in usa_lead_investments)\n",
    "usa_lead_percentage"
   ]
  },
  {
   "cell_type": "code",
   "execution_count": 82,
   "metadata": {},
   "outputs": [
    {
     "data": {
      "text/plain": [
       "[('Softbank Vision Fund', 0.7142857142857143),\n",
       " ('A16Z', 0.6538461538461539),\n",
       " ('Index Ventures', 0.5135135135135135),\n",
       " ('Floodgate', 0.4166666666666667),\n",
       " ('Accel', 0.4067796610169492),\n",
       " ('Bessemer Venture Partners', 0.391304347826087),\n",
       " ('Khosla Ventures', 0.35135135135135137),\n",
       " ('Sequoia Capital', 0.35),\n",
       " ('First Round Capital', 0.3333333333333333),\n",
       " ('Union Square Ventures', 0.3333333333333333),\n",
       " ('New Enterprise Associates', 0.3181818181818182),\n",
       " ('Lightspeed Venture Partners', 0.3170731707317073),\n",
       " ('Founders Fund', 0.25925925925925924),\n",
       " ('Greylock', 0.21428571428571427),\n",
       " ('Benchmark', 0.16666666666666666)]"
      ]
     },
     "execution_count": 82,
     "metadata": {},
     "output_type": "execute_result"
    }
   ],
   "source": [
    "usa_lead_percentage_sorted = sorted(usa_lead_percentage.items(), key=lambda x: x[1], reverse=True)\n",
    "usa_lead_percentage_sorted"
   ]
  },
  {
   "cell_type": "code",
   "execution_count": 30,
   "metadata": {},
   "outputs": [
    {
     "data": {
      "text/html": [
       "<div>\n",
       "<style scoped>\n",
       "    .dataframe tbody tr th:only-of-type {\n",
       "        vertical-align: middle;\n",
       "    }\n",
       "\n",
       "    .dataframe tbody tr th {\n",
       "        vertical-align: top;\n",
       "    }\n",
       "\n",
       "    .dataframe thead th {\n",
       "        text-align: right;\n",
       "    }\n",
       "</style>\n",
       "<table border=\"1\" class=\"dataframe\">\n",
       "  <thead>\n",
       "    <tr style=\"text-align: right;\">\n",
       "      <th></th>\n",
       "      <th>Country</th>\n",
       "      <th>VC Name</th>\n",
       "      <th>Announced Date</th>\n",
       "      <th>Organization Name</th>\n",
       "      <th>Lead Investor</th>\n",
       "      <th>Funding Round</th>\n",
       "      <th>Money Raised</th>\n",
       "    </tr>\n",
       "  </thead>\n",
       "  <tbody>\n",
       "    <tr>\n",
       "      <th>418</th>\n",
       "      <td>China</td>\n",
       "      <td>Sequoia Capital China</td>\n",
       "      <td>Jul 15, 2020</td>\n",
       "      <td>TUNGEE</td>\n",
       "      <td>Yes</td>\n",
       "      <td>Series B - TUNGEE</td>\n",
       "      <td>CN¥120M</td>\n",
       "    </tr>\n",
       "    <tr>\n",
       "      <th>419</th>\n",
       "      <td>China</td>\n",
       "      <td>Sequoia Capital China</td>\n",
       "      <td>Jul 13, 2020</td>\n",
       "      <td>AccuMedical</td>\n",
       "      <td>Yes</td>\n",
       "      <td>Series B - AccuMedical</td>\n",
       "      <td>CN¥100M</td>\n",
       "    </tr>\n",
       "    <tr>\n",
       "      <th>420</th>\n",
       "      <td>China</td>\n",
       "      <td>Sequoia Capital China</td>\n",
       "      <td>Jul 8, 2020</td>\n",
       "      <td>Kuaidian Yuedu</td>\n",
       "      <td>Yes</td>\n",
       "      <td>Series C - Kuaidian Yuedu</td>\n",
       "      <td>$100M</td>\n",
       "    </tr>\n",
       "    <tr>\n",
       "      <th>424</th>\n",
       "      <td>China</td>\n",
       "      <td>Sequoia Capital China</td>\n",
       "      <td>Jun 22, 2020</td>\n",
       "      <td>Canva</td>\n",
       "      <td>Yes</td>\n",
       "      <td>Venture Round - Canva</td>\n",
       "      <td>$60M</td>\n",
       "    </tr>\n",
       "    <tr>\n",
       "      <th>426</th>\n",
       "      <td>China</td>\n",
       "      <td>Sequoia Capital China</td>\n",
       "      <td>May 27, 2020</td>\n",
       "      <td>Atom Bioscience &amp; Pharmaceutical</td>\n",
       "      <td>Yes</td>\n",
       "      <td>Series B - Atom Bioscience &amp; Pharmaceutical</td>\n",
       "      <td>$30M</td>\n",
       "    </tr>\n",
       "  </tbody>\n",
       "</table>\n",
       "</div>"
      ],
      "text/plain": [
       "    Country                VC Name Announced Date  \\\n",
       "418   China  Sequoia Capital China   Jul 15, 2020   \n",
       "419   China  Sequoia Capital China   Jul 13, 2020   \n",
       "420   China  Sequoia Capital China    Jul 8, 2020   \n",
       "424   China  Sequoia Capital China   Jun 22, 2020   \n",
       "426   China  Sequoia Capital China   May 27, 2020   \n",
       "\n",
       "                    Organization Name Lead Investor  \\\n",
       "418                            TUNGEE           Yes   \n",
       "419                       AccuMedical           Yes   \n",
       "420                    Kuaidian Yuedu           Yes   \n",
       "424                             Canva           Yes   \n",
       "426  Atom Bioscience & Pharmaceutical           Yes   \n",
       "\n",
       "                                   Funding Round Money Raised  \n",
       "418                            Series B - TUNGEE      CN¥120M  \n",
       "419                       Series B - AccuMedical      CN¥100M  \n",
       "420                    Series C - Kuaidian Yuedu        $100M  \n",
       "424                        Venture Round - Canva         $60M  \n",
       "426  Series B - Atom Bioscience & Pharmaceutical         $30M  "
      ]
     },
     "execution_count": 30,
     "metadata": {},
     "output_type": "execute_result"
    }
   ],
   "source": [
    "#China lead investors\n",
    "china_lead = china[(china['Lead Investor'] == 'Yes')]\n",
    "china_lead.head()"
   ]
  },
  {
   "cell_type": "code",
   "execution_count": 61,
   "metadata": {},
   "outputs": [
    {
     "data": {
      "text/plain": [
       "{'Sequoia Capital China': 16,\n",
       " 'Qiming Venture Partners': 15,\n",
       " 'GGV Capital': 14,\n",
       " 'Hillhouse Capital Group': 11,\n",
       " 'GSR Ventures': 6,\n",
       " 'Matrix Partners China': 5,\n",
       " 'IDG Capital': 5,\n",
       " 'Shenzhen Capital Group': 4,\n",
       " 'Legend Capital': 4,\n",
       " 'Source Code Capital': 3,\n",
       " 'Gaorong Capital': 2,\n",
       " 'Shunwei Capital': 1,\n",
       " 'ZhenFund': 1}"
      ]
     },
     "execution_count": 61,
     "metadata": {},
     "output_type": "execute_result"
    }
   ],
   "source": [
    "china_lead_investments = dict(china_lead['VC Name'].value_counts())\n",
    "china_lead_investments"
   ]
  },
  {
   "cell_type": "code",
   "execution_count": 68,
   "metadata": {},
   "outputs": [
    {
     "data": {
      "text/plain": [
       "{'Sequoia Capital China': 0.42105263157894735,\n",
       " 'Qiming Venture Partners': 0.39473684210526316,\n",
       " 'GGV Capital': 0.4375,\n",
       " 'Hillhouse Capital Group': 0.5,\n",
       " 'GSR Ventures': 0.42857142857142855,\n",
       " 'Matrix Partners China': 0.7142857142857143,\n",
       " 'IDG Capital': 0.45454545454545453,\n",
       " 'Shenzhen Capital Group': 0.5,\n",
       " 'Legend Capital': 0.36363636363636365,\n",
       " 'Source Code Capital': 0.42857142857142855,\n",
       " 'Gaorong Capital': 0.5,\n",
       " 'Shunwei Capital': 0.14285714285714285,\n",
       " 'ZhenFund': 0.0625}"
      ]
     },
     "execution_count": 68,
     "metadata": {},
     "output_type": "execute_result"
    }
   ],
   "source": [
    "china_lead_percentage = dict((k, float(china_lead_investments[k]) / china_investments[k]) for k in china_lead_investments)\n",
    "china_lead_percentage"
   ]
  },
  {
   "cell_type": "code",
   "execution_count": 69,
   "metadata": {},
   "outputs": [
    {
     "data": {
      "text/plain": [
       "[('Matrix Partners China', 0.7142857142857143),\n",
       " ('Hillhouse Capital Group', 0.5),\n",
       " ('Shenzhen Capital Group', 0.5),\n",
       " ('Gaorong Capital', 0.5),\n",
       " ('IDG Capital', 0.45454545454545453),\n",
       " ('GGV Capital', 0.4375),\n",
       " ('GSR Ventures', 0.42857142857142855),\n",
       " ('Source Code Capital', 0.42857142857142855),\n",
       " ('Sequoia Capital China', 0.42105263157894735),\n",
       " ('Qiming Venture Partners', 0.39473684210526316),\n",
       " ('Legend Capital', 0.36363636363636365),\n",
       " ('Shunwei Capital', 0.14285714285714285),\n",
       " ('ZhenFund', 0.0625)]"
      ]
     },
     "execution_count": 69,
     "metadata": {},
     "output_type": "execute_result"
    }
   ],
   "source": [
    "china_lead_percentage_sorted = sorted(china_lead_percentage.items(), key=lambda x: x[1], reverse=True)\n",
    "china_lead_percentage_sorted"
   ]
  },
  {
   "cell_type": "code",
   "execution_count": 97,
   "metadata": {},
   "outputs": [
    {
     "data": {
      "text/html": [
       "<div>\n",
       "<style scoped>\n",
       "    .dataframe tbody tr th:only-of-type {\n",
       "        vertical-align: middle;\n",
       "    }\n",
       "\n",
       "    .dataframe tbody tr th {\n",
       "        vertical-align: top;\n",
       "    }\n",
       "\n",
       "    .dataframe thead th {\n",
       "        text-align: right;\n",
       "    }\n",
       "</style>\n",
       "<table border=\"1\" class=\"dataframe\">\n",
       "  <thead>\n",
       "    <tr style=\"text-align: right;\">\n",
       "      <th></th>\n",
       "      <th>Country</th>\n",
       "      <th>VC Name</th>\n",
       "      <th>Announced Date</th>\n",
       "      <th>Organization Name</th>\n",
       "      <th>Lead Investor</th>\n",
       "      <th>Funding Round</th>\n",
       "      <th>Money Raised</th>\n",
       "    </tr>\n",
       "  </thead>\n",
       "  <tbody>\n",
       "    <tr>\n",
       "      <th>522</th>\n",
       "      <td>China</td>\n",
       "      <td>Matrix Partners China</td>\n",
       "      <td>Jun 5, 2020</td>\n",
       "      <td>Nebula Graph</td>\n",
       "      <td>—</td>\n",
       "      <td>Seed Round - Nebula Graph</td>\n",
       "      <td>$8M</td>\n",
       "    </tr>\n",
       "    <tr>\n",
       "      <th>523</th>\n",
       "      <td>China</td>\n",
       "      <td>Matrix Partners China</td>\n",
       "      <td>May 19, 2020</td>\n",
       "      <td>Simple Love</td>\n",
       "      <td>Yes</td>\n",
       "      <td>Series A - Simple Love</td>\n",
       "      <td>CN¥400M</td>\n",
       "    </tr>\n",
       "    <tr>\n",
       "      <th>524</th>\n",
       "      <td>China</td>\n",
       "      <td>Matrix Partners China</td>\n",
       "      <td>Apr 7, 2020</td>\n",
       "      <td>Lightelligence</td>\n",
       "      <td>Yes</td>\n",
       "      <td>Series A - Lightelligence</td>\n",
       "      <td>$26M</td>\n",
       "    </tr>\n",
       "    <tr>\n",
       "      <th>525</th>\n",
       "      <td>China</td>\n",
       "      <td>Matrix Partners China</td>\n",
       "      <td>Apr 2, 2020</td>\n",
       "      <td>Rgenta Therapeutics</td>\n",
       "      <td>Yes</td>\n",
       "      <td>Seed Round - Rgenta Therapeutics</td>\n",
       "      <td>$20M</td>\n",
       "    </tr>\n",
       "    <tr>\n",
       "      <th>526</th>\n",
       "      <td>China</td>\n",
       "      <td>Matrix Partners China</td>\n",
       "      <td>Mar 17, 2020</td>\n",
       "      <td>Tongcheng Bills Network</td>\n",
       "      <td>—</td>\n",
       "      <td>Series B - Tongcheng Bills Network</td>\n",
       "      <td>CN¥150M</td>\n",
       "    </tr>\n",
       "    <tr>\n",
       "      <th>527</th>\n",
       "      <td>China</td>\n",
       "      <td>Matrix Partners China</td>\n",
       "      <td>Mar 12, 2020</td>\n",
       "      <td>Starfield Food &amp; Science Technology</td>\n",
       "      <td>Yes</td>\n",
       "      <td>Angel Round - Starfield Food &amp; Science Technology</td>\n",
       "      <td>—</td>\n",
       "    </tr>\n",
       "    <tr>\n",
       "      <th>528</th>\n",
       "      <td>China</td>\n",
       "      <td>Matrix Partners China</td>\n",
       "      <td>Feb 28, 2020</td>\n",
       "      <td>Feiyu</td>\n",
       "      <td>Yes</td>\n",
       "      <td>Series A - Feiyu</td>\n",
       "      <td>$20M</td>\n",
       "    </tr>\n",
       "  </tbody>\n",
       "</table>\n",
       "</div>"
      ],
      "text/plain": [
       "    Country                VC Name Announced Date  \\\n",
       "522   China  Matrix Partners China    Jun 5, 2020   \n",
       "523   China  Matrix Partners China   May 19, 2020   \n",
       "524   China  Matrix Partners China    Apr 7, 2020   \n",
       "525   China  Matrix Partners China    Apr 2, 2020   \n",
       "526   China  Matrix Partners China   Mar 17, 2020   \n",
       "527   China  Matrix Partners China   Mar 12, 2020   \n",
       "528   China  Matrix Partners China   Feb 28, 2020   \n",
       "\n",
       "                       Organization Name Lead Investor  \\\n",
       "522                         Nebula Graph             —   \n",
       "523                          Simple Love           Yes   \n",
       "524                       Lightelligence           Yes   \n",
       "525                  Rgenta Therapeutics           Yes   \n",
       "526              Tongcheng Bills Network             —   \n",
       "527  Starfield Food & Science Technology           Yes   \n",
       "528                                Feiyu           Yes   \n",
       "\n",
       "                                         Funding Round Money Raised  \n",
       "522                          Seed Round - Nebula Graph          $8M  \n",
       "523                             Series A - Simple Love      CN¥400M  \n",
       "524                          Series A - Lightelligence         $26M  \n",
       "525                   Seed Round - Rgenta Therapeutics         $20M  \n",
       "526                 Series B - Tongcheng Bills Network      CN¥150M  \n",
       "527  Angel Round - Starfield Food & Science Technology            —  \n",
       "528                                   Series A - Feiyu         $20M  "
      ]
     },
     "execution_count": 97,
     "metadata": {},
     "output_type": "execute_result"
    }
   ],
   "source": [
    "#Average check sizes leader, follower, in the middle\n",
    "matrix = china[(china['VC Name'] == 'Matrix Partners China')]\n",
    "matrix"
   ]
  },
  {
   "cell_type": "markdown",
   "metadata": {},
   "source": [
    "# Startups Invested by 3 or more VCs\n"
   ]
  },
  {
   "cell_type": "code",
   "execution_count": 120,
   "metadata": {},
   "outputs": [
    {
     "data": {
      "text/plain": [
       "Vedantu           5\n",
       "Figma             5\n",
       "Run The World     5\n",
       "Kuaidian Yuedu    4\n",
       "Karius            3\n",
       "Q Bio             3\n",
       "Personio          3\n",
       "Sensors Data      3\n",
       "DEEPEXI           3\n",
       "Cockroach Labs    3\n",
       "PROPS             3\n",
       "Netskope          3\n",
       "Siren             3\n",
       "Encootech         3\n",
       "Yuanfudao         2\n",
       "Name: Organization Name, dtype: int64"
      ]
     },
     "execution_count": 120,
     "metadata": {},
     "output_type": "execute_result"
    }
   ],
   "source": [
    "df['Organization Name'].value_counts().head(15)"
   ]
  },
  {
   "cell_type": "code",
   "execution_count": 116,
   "metadata": {
    "scrolled": true
   },
   "outputs": [
    {
     "data": {
      "text/html": [
       "<div>\n",
       "<style scoped>\n",
       "    .dataframe tbody tr th:only-of-type {\n",
       "        vertical-align: middle;\n",
       "    }\n",
       "\n",
       "    .dataframe tbody tr th {\n",
       "        vertical-align: top;\n",
       "    }\n",
       "\n",
       "    .dataframe thead th {\n",
       "        text-align: right;\n",
       "    }\n",
       "</style>\n",
       "<table border=\"1\" class=\"dataframe\">\n",
       "  <thead>\n",
       "    <tr style=\"text-align: right;\">\n",
       "      <th></th>\n",
       "      <th>Country</th>\n",
       "      <th>VC Name</th>\n",
       "      <th>Announced Date</th>\n",
       "      <th>Organization Name</th>\n",
       "      <th>Lead Investor</th>\n",
       "      <th>Funding Round</th>\n",
       "      <th>Money Raised</th>\n",
       "    </tr>\n",
       "  </thead>\n",
       "  <tbody>\n",
       "    <tr>\n",
       "      <th>266</th>\n",
       "      <td>USA</td>\n",
       "      <td>Accel</td>\n",
       "      <td>Jul 15, 2020</td>\n",
       "      <td>Vedantu</td>\n",
       "      <td>—</td>\n",
       "      <td>Series D - Vedantu</td>\n",
       "      <td>$100M</td>\n",
       "    </tr>\n",
       "    <tr>\n",
       "      <th>314</th>\n",
       "      <td>USA</td>\n",
       "      <td>Accel</td>\n",
       "      <td>Feb 13, 2020</td>\n",
       "      <td>Vedantu</td>\n",
       "      <td>—</td>\n",
       "      <td>Series C - Vedantu</td>\n",
       "      <td>$24M</td>\n",
       "    </tr>\n",
       "    <tr>\n",
       "      <th>473</th>\n",
       "      <td>China</td>\n",
       "      <td>Legend Capital</td>\n",
       "      <td>Jul 15, 2020</td>\n",
       "      <td>Vedantu</td>\n",
       "      <td>—</td>\n",
       "      <td>Series D - Vedantu</td>\n",
       "      <td>$100M</td>\n",
       "    </tr>\n",
       "    <tr>\n",
       "      <th>564</th>\n",
       "      <td>China</td>\n",
       "      <td>GGV Capital</td>\n",
       "      <td>Jul 15, 2020</td>\n",
       "      <td>Vedantu</td>\n",
       "      <td>—</td>\n",
       "      <td>Series D - Vedantu</td>\n",
       "      <td>$100M</td>\n",
       "    </tr>\n",
       "    <tr>\n",
       "      <th>591</th>\n",
       "      <td>China</td>\n",
       "      <td>GGV Capital</td>\n",
       "      <td>Feb 13, 2020</td>\n",
       "      <td>Vedantu</td>\n",
       "      <td>Yes</td>\n",
       "      <td>Series C - Vedantu</td>\n",
       "      <td>$24M</td>\n",
       "    </tr>\n",
       "  </tbody>\n",
       "</table>\n",
       "</div>"
      ],
      "text/plain": [
       "    Country         VC Name Announced Date Organization Name Lead Investor  \\\n",
       "266     USA           Accel   Jul 15, 2020           Vedantu             —   \n",
       "314     USA           Accel   Feb 13, 2020           Vedantu             —   \n",
       "473   China  Legend Capital   Jul 15, 2020           Vedantu             —   \n",
       "564   China     GGV Capital   Jul 15, 2020           Vedantu             —   \n",
       "591   China     GGV Capital   Feb 13, 2020           Vedantu           Yes   \n",
       "\n",
       "          Funding Round Money Raised  \n",
       "266  Series D - Vedantu        $100M  \n",
       "314  Series C - Vedantu         $24M  \n",
       "473  Series D - Vedantu        $100M  \n",
       "564  Series D - Vedantu        $100M  \n",
       "591  Series C - Vedantu         $24M  "
      ]
     },
     "execution_count": 116,
     "metadata": {},
     "output_type": "execute_result"
    }
   ],
   "source": [
    "# Vedantu: Indian Interactive Online tutoring platform\n",
    "vedantu = df[df['Organization Name'] == 'Vedantu']\n",
    "vedantu"
   ]
  },
  {
   "cell_type": "code",
   "execution_count": 112,
   "metadata": {},
   "outputs": [
    {
     "data": {
      "text/html": [
       "<div>\n",
       "<style scoped>\n",
       "    .dataframe tbody tr th:only-of-type {\n",
       "        vertical-align: middle;\n",
       "    }\n",
       "\n",
       "    .dataframe tbody tr th {\n",
       "        vertical-align: top;\n",
       "    }\n",
       "\n",
       "    .dataframe thead th {\n",
       "        text-align: right;\n",
       "    }\n",
       "</style>\n",
       "<table border=\"1\" class=\"dataframe\">\n",
       "  <thead>\n",
       "    <tr style=\"text-align: right;\">\n",
       "      <th></th>\n",
       "      <th>Country</th>\n",
       "      <th>VC Name</th>\n",
       "      <th>Announced Date</th>\n",
       "      <th>Organization Name</th>\n",
       "      <th>Lead Investor</th>\n",
       "      <th>Funding Round</th>\n",
       "      <th>Money Raised</th>\n",
       "    </tr>\n",
       "  </thead>\n",
       "  <tbody>\n",
       "    <tr>\n",
       "      <th>19</th>\n",
       "      <td>USA</td>\n",
       "      <td>Sequoia Capital</td>\n",
       "      <td>Apr 30, 2020</td>\n",
       "      <td>Figma</td>\n",
       "      <td>—</td>\n",
       "      <td>Series D - Figma</td>\n",
       "      <td>$50M</td>\n",
       "    </tr>\n",
       "    <tr>\n",
       "      <th>73</th>\n",
       "      <td>USA</td>\n",
       "      <td>Founders Fund</td>\n",
       "      <td>Apr 30, 2020</td>\n",
       "      <td>Figma</td>\n",
       "      <td>—</td>\n",
       "      <td>Series D - Figma</td>\n",
       "      <td>$50M</td>\n",
       "    </tr>\n",
       "    <tr>\n",
       "      <th>183</th>\n",
       "      <td>USA</td>\n",
       "      <td>Index Ventures</td>\n",
       "      <td>Apr 30, 2020</td>\n",
       "      <td>Figma</td>\n",
       "      <td>—</td>\n",
       "      <td>Series D - Figma</td>\n",
       "      <td>$50M</td>\n",
       "    </tr>\n",
       "    <tr>\n",
       "      <th>356</th>\n",
       "      <td>USA</td>\n",
       "      <td>A16Z</td>\n",
       "      <td>Apr 30, 2020</td>\n",
       "      <td>Figma</td>\n",
       "      <td>Yes</td>\n",
       "      <td>Series D - Figma</td>\n",
       "      <td>$50M</td>\n",
       "    </tr>\n",
       "    <tr>\n",
       "      <th>386</th>\n",
       "      <td>USA</td>\n",
       "      <td>Greylock</td>\n",
       "      <td>Apr 30, 2020</td>\n",
       "      <td>Figma</td>\n",
       "      <td>—</td>\n",
       "      <td>Series D - Figma</td>\n",
       "      <td>$50M</td>\n",
       "    </tr>\n",
       "  </tbody>\n",
       "</table>\n",
       "</div>"
      ],
      "text/plain": [
       "    Country          VC Name Announced Date Organization Name Lead Investor  \\\n",
       "19      USA  Sequoia Capital   Apr 30, 2020             Figma             —   \n",
       "73      USA    Founders Fund   Apr 30, 2020             Figma             —   \n",
       "183     USA   Index Ventures   Apr 30, 2020             Figma             —   \n",
       "356     USA             A16Z   Apr 30, 2020             Figma           Yes   \n",
       "386     USA         Greylock   Apr 30, 2020             Figma             —   \n",
       "\n",
       "        Funding Round Money Raised  \n",
       "19   Series D - Figma         $50M  \n",
       "73   Series D - Figma         $50M  \n",
       "183  Series D - Figma         $50M  \n",
       "356  Series D - Figma         $50M  \n",
       "386  Series D - Figma         $50M  "
      ]
     },
     "execution_count": 112,
     "metadata": {},
     "output_type": "execute_result"
    }
   ],
   "source": [
    "# Figma: UIUX design tool\n",
    "# https://www.figma.com/\n",
    "figma = df[df['Organization Name'] == 'Figma']\n",
    "figma"
   ]
  },
  {
   "cell_type": "code",
   "execution_count": 117,
   "metadata": {},
   "outputs": [
    {
     "data": {
      "text/html": [
       "<div>\n",
       "<style scoped>\n",
       "    .dataframe tbody tr th:only-of-type {\n",
       "        vertical-align: middle;\n",
       "    }\n",
       "\n",
       "    .dataframe tbody tr th {\n",
       "        vertical-align: top;\n",
       "    }\n",
       "\n",
       "    .dataframe thead th {\n",
       "        text-align: right;\n",
       "    }\n",
       "</style>\n",
       "<table border=\"1\" class=\"dataframe\">\n",
       "  <thead>\n",
       "    <tr style=\"text-align: right;\">\n",
       "      <th></th>\n",
       "      <th>Country</th>\n",
       "      <th>VC Name</th>\n",
       "      <th>Announced Date</th>\n",
       "      <th>Organization Name</th>\n",
       "      <th>Lead Investor</th>\n",
       "      <th>Funding Round</th>\n",
       "      <th>Money Raised</th>\n",
       "    </tr>\n",
       "  </thead>\n",
       "  <tbody>\n",
       "    <tr>\n",
       "      <th>70</th>\n",
       "      <td>USA</td>\n",
       "      <td>Founders Fund</td>\n",
       "      <td>May 21, 2020</td>\n",
       "      <td>Run The World</td>\n",
       "      <td>Yes</td>\n",
       "      <td>Series A - Run The World</td>\n",
       "      <td>$10.8M</td>\n",
       "    </tr>\n",
       "    <tr>\n",
       "      <th>348</th>\n",
       "      <td>USA</td>\n",
       "      <td>A16Z</td>\n",
       "      <td>May 21, 2020</td>\n",
       "      <td>Run The World</td>\n",
       "      <td>Yes</td>\n",
       "      <td>Series A - Run The World</td>\n",
       "      <td>$10.8M</td>\n",
       "    </tr>\n",
       "    <tr>\n",
       "      <th>371</th>\n",
       "      <td>USA</td>\n",
       "      <td>A16Z</td>\n",
       "      <td>Feb 27, 2020</td>\n",
       "      <td>Run The World</td>\n",
       "      <td>—</td>\n",
       "      <td>Seed Round - Run The World</td>\n",
       "      <td>$4M</td>\n",
       "    </tr>\n",
       "    <tr>\n",
       "      <th>571</th>\n",
       "      <td>China</td>\n",
       "      <td>GGV Capital</td>\n",
       "      <td>May 21, 2020</td>\n",
       "      <td>Run The World</td>\n",
       "      <td>—</td>\n",
       "      <td>Series A - Run The World</td>\n",
       "      <td>$10.8M</td>\n",
       "    </tr>\n",
       "    <tr>\n",
       "      <th>637</th>\n",
       "      <td>China</td>\n",
       "      <td>GSR Ventures</td>\n",
       "      <td>Feb 27, 2020</td>\n",
       "      <td>Run The World</td>\n",
       "      <td>—</td>\n",
       "      <td>Seed Round - Run The World</td>\n",
       "      <td>$4M</td>\n",
       "    </tr>\n",
       "  </tbody>\n",
       "</table>\n",
       "</div>"
      ],
      "text/plain": [
       "    Country        VC Name Announced Date Organization Name Lead Investor  \\\n",
       "70      USA  Founders Fund   May 21, 2020     Run The World           Yes   \n",
       "348     USA           A16Z   May 21, 2020     Run The World           Yes   \n",
       "371     USA           A16Z   Feb 27, 2020     Run The World             —   \n",
       "571   China    GGV Capital   May 21, 2020     Run The World             —   \n",
       "637   China   GSR Ventures   Feb 27, 2020     Run The World             —   \n",
       "\n",
       "                  Funding Round Money Raised  \n",
       "70     Series A - Run The World       $10.8M  \n",
       "348    Series A - Run The World       $10.8M  \n",
       "371  Seed Round - Run The World          $4M  \n",
       "571    Series A - Run The World       $10.8M  \n",
       "637  Seed Round - Run The World          $4M  "
      ]
     },
     "execution_count": 117,
     "metadata": {},
     "output_type": "execute_result"
    }
   ],
   "source": [
    "# Run the World: create virtual event platform with plug and play templates\n",
    "# https://www.runtheworld.today/\n",
    "run_the_world = df[df['Organization Name'] == 'Run The World']\n",
    "run_the_world"
   ]
  },
  {
   "cell_type": "code",
   "execution_count": 118,
   "metadata": {
    "scrolled": true
   },
   "outputs": [
    {
     "data": {
      "text/html": [
       "<div>\n",
       "<style scoped>\n",
       "    .dataframe tbody tr th:only-of-type {\n",
       "        vertical-align: middle;\n",
       "    }\n",
       "\n",
       "    .dataframe tbody tr th {\n",
       "        vertical-align: top;\n",
       "    }\n",
       "\n",
       "    .dataframe thead th {\n",
       "        text-align: right;\n",
       "    }\n",
       "</style>\n",
       "<table border=\"1\" class=\"dataframe\">\n",
       "  <thead>\n",
       "    <tr style=\"text-align: right;\">\n",
       "      <th></th>\n",
       "      <th>Country</th>\n",
       "      <th>VC Name</th>\n",
       "      <th>Announced Date</th>\n",
       "      <th>Organization Name</th>\n",
       "      <th>Lead Investor</th>\n",
       "      <th>Funding Round</th>\n",
       "      <th>Money Raised</th>\n",
       "    </tr>\n",
       "  </thead>\n",
       "  <tbody>\n",
       "    <tr>\n",
       "      <th>420</th>\n",
       "      <td>China</td>\n",
       "      <td>Sequoia Capital China</td>\n",
       "      <td>Jul 8, 2020</td>\n",
       "      <td>Kuaidian Yuedu</td>\n",
       "      <td>Yes</td>\n",
       "      <td>Series C - Kuaidian Yuedu</td>\n",
       "      <td>$100M</td>\n",
       "    </tr>\n",
       "    <tr>\n",
       "      <th>455</th>\n",
       "      <td>China</td>\n",
       "      <td>Morningside Venture Capital</td>\n",
       "      <td>Jul 8, 2020</td>\n",
       "      <td>Kuaidian Yuedu</td>\n",
       "      <td>—</td>\n",
       "      <td>Series C - Kuaidian Yuedu</td>\n",
       "      <td>$100M</td>\n",
       "    </tr>\n",
       "    <tr>\n",
       "      <th>565</th>\n",
       "      <td>China</td>\n",
       "      <td>GGV Capital</td>\n",
       "      <td>Jul 8, 2020</td>\n",
       "      <td>Kuaidian Yuedu</td>\n",
       "      <td>—</td>\n",
       "      <td>Series C - Kuaidian Yuedu</td>\n",
       "      <td>$100M</td>\n",
       "    </tr>\n",
       "    <tr>\n",
       "      <th>639</th>\n",
       "      <td>China</td>\n",
       "      <td>DCM Ventures</td>\n",
       "      <td>Jul 8, 2020</td>\n",
       "      <td>Kuaidian Yuedu</td>\n",
       "      <td>No</td>\n",
       "      <td>Series C - Kuaidian Yuedu</td>\n",
       "      <td>$100M</td>\n",
       "    </tr>\n",
       "  </tbody>\n",
       "</table>\n",
       "</div>"
      ],
      "text/plain": [
       "    Country                      VC Name Announced Date Organization Name  \\\n",
       "420   China        Sequoia Capital China    Jul 8, 2020    Kuaidian Yuedu   \n",
       "455   China  Morningside Venture Capital    Jul 8, 2020    Kuaidian Yuedu   \n",
       "565   China                  GGV Capital    Jul 8, 2020    Kuaidian Yuedu   \n",
       "639   China                 DCM Ventures    Jul 8, 2020    Kuaidian Yuedu   \n",
       "\n",
       "    Lead Investor              Funding Round Money Raised  \n",
       "420           Yes  Series C - Kuaidian Yuedu        $100M  \n",
       "455             —  Series C - Kuaidian Yuedu        $100M  \n",
       "565             —  Series C - Kuaidian Yuedu        $100M  \n",
       "639            No  Series C - Kuaidian Yuedu        $100M  "
      ]
     },
     "execution_count": 118,
     "metadata": {},
     "output_type": "execute_result"
    }
   ],
   "source": [
    "# Kuaidian Yuedu: reading app that presents novels in a dialogue-based, text message reading format\n",
    "# https://www.kuaidianyuedu.com/\n",
    "kuaidian_yuedu = df[df['Organization Name'] == 'Kuaidian Yuedu']\n",
    "kuaidian_yuedu"
   ]
  },
  {
   "cell_type": "code",
   "execution_count": 115,
   "metadata": {},
   "outputs": [
    {
     "data": {
      "text/html": [
       "<div>\n",
       "<style scoped>\n",
       "    .dataframe tbody tr th:only-of-type {\n",
       "        vertical-align: middle;\n",
       "    }\n",
       "\n",
       "    .dataframe tbody tr th {\n",
       "        vertical-align: top;\n",
       "    }\n",
       "\n",
       "    .dataframe thead th {\n",
       "        text-align: right;\n",
       "    }\n",
       "</style>\n",
       "<table border=\"1\" class=\"dataframe\">\n",
       "  <thead>\n",
       "    <tr style=\"text-align: right;\">\n",
       "      <th></th>\n",
       "      <th>Country</th>\n",
       "      <th>VC Name</th>\n",
       "      <th>Announced Date</th>\n",
       "      <th>Organization Name</th>\n",
       "      <th>Lead Investor</th>\n",
       "      <th>Funding Round</th>\n",
       "      <th>Money Raised</th>\n",
       "    </tr>\n",
       "  </thead>\n",
       "  <tbody>\n",
       "    <tr>\n",
       "      <th>116</th>\n",
       "      <td>USA</td>\n",
       "      <td>Lightspeed Venture Partners</td>\n",
       "      <td>Feb 24, 2020</td>\n",
       "      <td>Karius</td>\n",
       "      <td>—</td>\n",
       "      <td>Series B - Karius</td>\n",
       "      <td>$165M</td>\n",
       "    </tr>\n",
       "    <tr>\n",
       "      <th>211</th>\n",
       "      <td>USA</td>\n",
       "      <td>Softbank Vision Fund</td>\n",
       "      <td>February 24, 2020</td>\n",
       "      <td>Karius</td>\n",
       "      <td>Yes</td>\n",
       "      <td>Series B - Karius</td>\n",
       "      <td>$165M</td>\n",
       "    </tr>\n",
       "    <tr>\n",
       "      <th>240</th>\n",
       "      <td>USA</td>\n",
       "      <td>Khosla Ventures</td>\n",
       "      <td>Feb 24, 2020</td>\n",
       "      <td>Karius</td>\n",
       "      <td>—</td>\n",
       "      <td>Series B - Karius</td>\n",
       "      <td>$165M</td>\n",
       "    </tr>\n",
       "  </tbody>\n",
       "</table>\n",
       "</div>"
      ],
      "text/plain": [
       "    Country                      VC Name     Announced Date Organization Name  \\\n",
       "116     USA  Lightspeed Venture Partners       Feb 24, 2020            Karius   \n",
       "211     USA         Softbank Vision Fund  February 24, 2020            Karius   \n",
       "240     USA              Khosla Ventures       Feb 24, 2020            Karius   \n",
       "\n",
       "    Lead Investor      Funding Round Money Raised  \n",
       "116             —  Series B - Karius        $165M  \n",
       "211           Yes  Series B - Karius        $165M  \n",
       "240             —  Series B - Karius        $165M  "
      ]
     },
     "execution_count": 115,
     "metadata": {},
     "output_type": "execute_result"
    }
   ],
   "source": [
    "# Karius: liquid biopsy for infectious diseases\n",
    "# https://kariusdx.com/\n",
    "karius = df[df['Organization Name'] == 'Karius']\n",
    "karius"
   ]
  },
  {
   "cell_type": "code",
   "execution_count": 122,
   "metadata": {},
   "outputs": [
    {
     "data": {
      "text/html": [
       "<div>\n",
       "<style scoped>\n",
       "    .dataframe tbody tr th:only-of-type {\n",
       "        vertical-align: middle;\n",
       "    }\n",
       "\n",
       "    .dataframe tbody tr th {\n",
       "        vertical-align: top;\n",
       "    }\n",
       "\n",
       "    .dataframe thead th {\n",
       "        text-align: right;\n",
       "    }\n",
       "</style>\n",
       "<table border=\"1\" class=\"dataframe\">\n",
       "  <thead>\n",
       "    <tr style=\"text-align: right;\">\n",
       "      <th></th>\n",
       "      <th>Country</th>\n",
       "      <th>VC Name</th>\n",
       "      <th>Announced Date</th>\n",
       "      <th>Organization Name</th>\n",
       "      <th>Lead Investor</th>\n",
       "      <th>Funding Round</th>\n",
       "      <th>Money Raised</th>\n",
       "    </tr>\n",
       "  </thead>\n",
       "  <tbody>\n",
       "    <tr>\n",
       "      <th>81</th>\n",
       "      <td>USA</td>\n",
       "      <td>Founders Fund</td>\n",
       "      <td>Feb 20, 2020</td>\n",
       "      <td>Q Bio</td>\n",
       "      <td>—</td>\n",
       "      <td>Series B - Q Bio</td>\n",
       "      <td>$40M</td>\n",
       "    </tr>\n",
       "    <tr>\n",
       "      <th>242</th>\n",
       "      <td>USA</td>\n",
       "      <td>Khosla Ventures</td>\n",
       "      <td>Feb 20, 2020</td>\n",
       "      <td>Q Bio</td>\n",
       "      <td>—</td>\n",
       "      <td>Series B - Q Bio</td>\n",
       "      <td>$40M</td>\n",
       "    </tr>\n",
       "    <tr>\n",
       "      <th>373</th>\n",
       "      <td>USA</td>\n",
       "      <td>A16Z</td>\n",
       "      <td>Feb 20, 2020</td>\n",
       "      <td>Q Bio</td>\n",
       "      <td>Yes</td>\n",
       "      <td>Series B - Q Bio</td>\n",
       "      <td>$40M</td>\n",
       "    </tr>\n",
       "  </tbody>\n",
       "</table>\n",
       "</div>"
      ],
      "text/plain": [
       "    Country          VC Name Announced Date Organization Name Lead Investor  \\\n",
       "81      USA    Founders Fund   Feb 20, 2020             Q Bio             —   \n",
       "242     USA  Khosla Ventures   Feb 20, 2020             Q Bio             —   \n",
       "373     USA             A16Z   Feb 20, 2020             Q Bio           Yes   \n",
       "\n",
       "        Funding Round Money Raised  \n",
       "81   Series B - Q Bio         $40M  \n",
       "242  Series B - Q Bio         $40M  \n",
       "373  Series B - Q Bio         $40M  "
      ]
     },
     "execution_count": 122,
     "metadata": {},
     "output_type": "execute_result"
    }
   ],
   "source": [
    "q_bio = df[df['Organization Name'] == 'Q Bio']\n",
    "q_bio"
   ]
  },
  {
   "cell_type": "code",
   "execution_count": 123,
   "metadata": {},
   "outputs": [
    {
     "data": {
      "text/html": [
       "<div>\n",
       "<style scoped>\n",
       "    .dataframe tbody tr th:only-of-type {\n",
       "        vertical-align: middle;\n",
       "    }\n",
       "\n",
       "    .dataframe tbody tr th {\n",
       "        vertical-align: top;\n",
       "    }\n",
       "\n",
       "    .dataframe thead th {\n",
       "        text-align: right;\n",
       "    }\n",
       "</style>\n",
       "<table border=\"1\" class=\"dataframe\">\n",
       "  <thead>\n",
       "    <tr style=\"text-align: right;\">\n",
       "      <th></th>\n",
       "      <th>Country</th>\n",
       "      <th>VC Name</th>\n",
       "      <th>Announced Date</th>\n",
       "      <th>Organization Name</th>\n",
       "      <th>Lead Investor</th>\n",
       "      <th>Funding Round</th>\n",
       "      <th>Money Raised</th>\n",
       "    </tr>\n",
       "  </thead>\n",
       "  <tbody>\n",
       "    <tr>\n",
       "      <th>125</th>\n",
       "      <td>USA</td>\n",
       "      <td>Lightspeed Venture Partners</td>\n",
       "      <td>Jan 21, 2020</td>\n",
       "      <td>Personio</td>\n",
       "      <td>—</td>\n",
       "      <td>Series C - Personio</td>\n",
       "      <td>$75M</td>\n",
       "    </tr>\n",
       "    <tr>\n",
       "      <th>199</th>\n",
       "      <td>USA</td>\n",
       "      <td>Index Ventures</td>\n",
       "      <td>Jan 21, 2020</td>\n",
       "      <td>Personio</td>\n",
       "      <td>—</td>\n",
       "      <td>Series C - Personio</td>\n",
       "      <td>$75M</td>\n",
       "    </tr>\n",
       "    <tr>\n",
       "      <th>321</th>\n",
       "      <td>USA</td>\n",
       "      <td>Accel</td>\n",
       "      <td>Jan 21, 2020</td>\n",
       "      <td>Personio</td>\n",
       "      <td>Yes</td>\n",
       "      <td>Series C - Personio</td>\n",
       "      <td>NaN</td>\n",
       "    </tr>\n",
       "  </tbody>\n",
       "</table>\n",
       "</div>"
      ],
      "text/plain": [
       "    Country                      VC Name Announced Date Organization Name  \\\n",
       "125     USA  Lightspeed Venture Partners   Jan 21, 2020          Personio   \n",
       "199     USA               Index Ventures   Jan 21, 2020          Personio   \n",
       "321     USA                        Accel   Jan 21, 2020          Personio   \n",
       "\n",
       "    Lead Investor        Funding Round Money Raised  \n",
       "125             —  Series C - Personio         $75M  \n",
       "199             —  Series C - Personio         $75M  \n",
       "321           Yes  Series C - Personio          NaN  "
      ]
     },
     "execution_count": 123,
     "metadata": {},
     "output_type": "execute_result"
    }
   ],
   "source": [
    "personio = df[df['Organization Name'] == 'Personio']\n",
    "personio"
   ]
  },
  {
   "cell_type": "code",
   "execution_count": 125,
   "metadata": {},
   "outputs": [
    {
     "data": {
      "text/html": [
       "<div>\n",
       "<style scoped>\n",
       "    .dataframe tbody tr th:only-of-type {\n",
       "        vertical-align: middle;\n",
       "    }\n",
       "\n",
       "    .dataframe tbody tr th {\n",
       "        vertical-align: top;\n",
       "    }\n",
       "\n",
       "    .dataframe thead th {\n",
       "        text-align: right;\n",
       "    }\n",
       "</style>\n",
       "<table border=\"1\" class=\"dataframe\">\n",
       "  <thead>\n",
       "    <tr style=\"text-align: right;\">\n",
       "      <th></th>\n",
       "      <th>Country</th>\n",
       "      <th>VC Name</th>\n",
       "      <th>Announced Date</th>\n",
       "      <th>Organization Name</th>\n",
       "      <th>Lead Investor</th>\n",
       "      <th>Funding Round</th>\n",
       "      <th>Money Raised</th>\n",
       "    </tr>\n",
       "  </thead>\n",
       "  <tbody>\n",
       "    <tr>\n",
       "      <th>428</th>\n",
       "      <td>China</td>\n",
       "      <td>Sequoia Capital China</td>\n",
       "      <td>May 20, 2020</td>\n",
       "      <td>Sensors Data</td>\n",
       "      <td>—</td>\n",
       "      <td>Series C - Sensors Data</td>\n",
       "      <td>$30M</td>\n",
       "    </tr>\n",
       "    <tr>\n",
       "      <th>458</th>\n",
       "      <td>China</td>\n",
       "      <td>Morningside Venture Capital</td>\n",
       "      <td>May 20, 2020</td>\n",
       "      <td>Sensors Data</td>\n",
       "      <td>—</td>\n",
       "      <td>Series C - Sensors Data</td>\n",
       "      <td>$30M</td>\n",
       "    </tr>\n",
       "    <tr>\n",
       "      <th>643</th>\n",
       "      <td>China</td>\n",
       "      <td>DCM Ventures</td>\n",
       "      <td>May 20, 2020</td>\n",
       "      <td>Sensors Data</td>\n",
       "      <td>—</td>\n",
       "      <td>Series C - Sensors Data</td>\n",
       "      <td>$30M</td>\n",
       "    </tr>\n",
       "  </tbody>\n",
       "</table>\n",
       "</div>"
      ],
      "text/plain": [
       "    Country                      VC Name Announced Date Organization Name  \\\n",
       "428   China        Sequoia Capital China   May 20, 2020      Sensors Data   \n",
       "458   China  Morningside Venture Capital   May 20, 2020      Sensors Data   \n",
       "643   China                 DCM Ventures   May 20, 2020      Sensors Data   \n",
       "\n",
       "    Lead Investor            Funding Round Money Raised  \n",
       "428             —  Series C - Sensors Data         $30M  \n",
       "458             —  Series C - Sensors Data         $30M  \n",
       "643             —  Series C - Sensors Data         $30M  "
      ]
     },
     "execution_count": 125,
     "metadata": {},
     "output_type": "execute_result"
    }
   ],
   "source": [
    "sensors_data = df[df['Organization Name'] == 'Sensors Data']\n",
    "sensors_data"
   ]
  },
  {
   "cell_type": "code",
   "execution_count": 127,
   "metadata": {},
   "outputs": [
    {
     "data": {
      "text/html": [
       "<div>\n",
       "<style scoped>\n",
       "    .dataframe tbody tr th:only-of-type {\n",
       "        vertical-align: middle;\n",
       "    }\n",
       "\n",
       "    .dataframe tbody tr th {\n",
       "        vertical-align: top;\n",
       "    }\n",
       "\n",
       "    .dataframe thead th {\n",
       "        text-align: right;\n",
       "    }\n",
       "</style>\n",
       "<table border=\"1\" class=\"dataframe\">\n",
       "  <thead>\n",
       "    <tr style=\"text-align: right;\">\n",
       "      <th></th>\n",
       "      <th>Country</th>\n",
       "      <th>VC Name</th>\n",
       "      <th>Announced Date</th>\n",
       "      <th>Organization Name</th>\n",
       "      <th>Lead Investor</th>\n",
       "      <th>Funding Round</th>\n",
       "      <th>Money Raised</th>\n",
       "    </tr>\n",
       "  </thead>\n",
       "  <tbody>\n",
       "    <tr>\n",
       "      <th>457</th>\n",
       "      <td>China</td>\n",
       "      <td>Morningside Venture Capital</td>\n",
       "      <td>May 29, 2020</td>\n",
       "      <td>DEEPEXI</td>\n",
       "      <td>—</td>\n",
       "      <td>Series A - DEEPEXI</td>\n",
       "      <td>$50M</td>\n",
       "    </tr>\n",
       "    <tr>\n",
       "      <th>531</th>\n",
       "      <td>China</td>\n",
       "      <td>IDG Capital</td>\n",
       "      <td>May 29, 2020</td>\n",
       "      <td>DEEPEXI</td>\n",
       "      <td>—</td>\n",
       "      <td>Series A - DEEPEXI</td>\n",
       "      <td>$50M</td>\n",
       "    </tr>\n",
       "    <tr>\n",
       "      <th>550</th>\n",
       "      <td>China</td>\n",
       "      <td>Hillhouse Capital Group</td>\n",
       "      <td>May 29, 2020</td>\n",
       "      <td>DEEPEXI</td>\n",
       "      <td>Yes</td>\n",
       "      <td>Series A - DEEPEXI</td>\n",
       "      <td>$50M</td>\n",
       "    </tr>\n",
       "  </tbody>\n",
       "</table>\n",
       "</div>"
      ],
      "text/plain": [
       "    Country                      VC Name Announced Date Organization Name  \\\n",
       "457   China  Morningside Venture Capital   May 29, 2020           DEEPEXI   \n",
       "531   China                  IDG Capital   May 29, 2020           DEEPEXI   \n",
       "550   China      Hillhouse Capital Group   May 29, 2020           DEEPEXI   \n",
       "\n",
       "    Lead Investor       Funding Round Money Raised  \n",
       "457             —  Series A - DEEPEXI         $50M  \n",
       "531             —  Series A - DEEPEXI         $50M  \n",
       "550           Yes  Series A - DEEPEXI         $50M  "
      ]
     },
     "execution_count": 127,
     "metadata": {},
     "output_type": "execute_result"
    }
   ],
   "source": [
    "deepexi = df[df['Organization Name'] == 'DEEPEXI']\n",
    "deepexi"
   ]
  },
  {
   "cell_type": "code",
   "execution_count": 128,
   "metadata": {},
   "outputs": [
    {
     "data": {
      "text/html": [
       "<div>\n",
       "<style scoped>\n",
       "    .dataframe tbody tr th:only-of-type {\n",
       "        vertical-align: middle;\n",
       "    }\n",
       "\n",
       "    .dataframe tbody tr th {\n",
       "        vertical-align: top;\n",
       "    }\n",
       "\n",
       "    .dataframe thead th {\n",
       "        text-align: right;\n",
       "    }\n",
       "</style>\n",
       "<table border=\"1\" class=\"dataframe\">\n",
       "  <thead>\n",
       "    <tr style=\"text-align: right;\">\n",
       "      <th></th>\n",
       "      <th>Country</th>\n",
       "      <th>VC Name</th>\n",
       "      <th>Announced Date</th>\n",
       "      <th>Organization Name</th>\n",
       "      <th>Lead Investor</th>\n",
       "      <th>Funding Round</th>\n",
       "      <th>Money Raised</th>\n",
       "    </tr>\n",
       "  </thead>\n",
       "  <tbody>\n",
       "    <tr>\n",
       "      <th>16</th>\n",
       "      <td>USA</td>\n",
       "      <td>Sequoia Capital</td>\n",
       "      <td>May 5, 2020</td>\n",
       "      <td>Cockroach Labs</td>\n",
       "      <td>—</td>\n",
       "      <td>Series D - Cockroach Labs</td>\n",
       "      <td>$86.6M</td>\n",
       "    </tr>\n",
       "    <tr>\n",
       "      <th>182</th>\n",
       "      <td>USA</td>\n",
       "      <td>Index Ventures</td>\n",
       "      <td>May 5, 2020</td>\n",
       "      <td>Cockroach Labs</td>\n",
       "      <td>—</td>\n",
       "      <td>Series D - Cockroach Labs</td>\n",
       "      <td>$86.6M</td>\n",
       "    </tr>\n",
       "    <tr>\n",
       "      <th>326</th>\n",
       "      <td>USA</td>\n",
       "      <td>Benchmark</td>\n",
       "      <td>May 5, 2020</td>\n",
       "      <td>Cockroach Labs</td>\n",
       "      <td>—</td>\n",
       "      <td>Series D - Cockroach Labs</td>\n",
       "      <td>$86.6M</td>\n",
       "    </tr>\n",
       "  </tbody>\n",
       "</table>\n",
       "</div>"
      ],
      "text/plain": [
       "    Country          VC Name Announced Date Organization Name Lead Investor  \\\n",
       "16      USA  Sequoia Capital    May 5, 2020    Cockroach Labs             —   \n",
       "182     USA   Index Ventures    May 5, 2020    Cockroach Labs             —   \n",
       "326     USA        Benchmark    May 5, 2020    Cockroach Labs             —   \n",
       "\n",
       "                 Funding Round Money Raised  \n",
       "16   Series D - Cockroach Labs       $86.6M  \n",
       "182  Series D - Cockroach Labs       $86.6M  \n",
       "326  Series D - Cockroach Labs       $86.6M  "
      ]
     },
     "execution_count": 128,
     "metadata": {},
     "output_type": "execute_result"
    }
   ],
   "source": [
    "cockroach_labs = df[df['Organization Name'] == 'Cockroach Labs']\n",
    "cockroach_labs"
   ]
  },
  {
   "cell_type": "code",
   "execution_count": 130,
   "metadata": {},
   "outputs": [
    {
     "data": {
      "text/html": [
       "<div>\n",
       "<style scoped>\n",
       "    .dataframe tbody tr th:only-of-type {\n",
       "        vertical-align: middle;\n",
       "    }\n",
       "\n",
       "    .dataframe tbody tr th {\n",
       "        vertical-align: top;\n",
       "    }\n",
       "\n",
       "    .dataframe thead th {\n",
       "        text-align: right;\n",
       "    }\n",
       "</style>\n",
       "<table border=\"1\" class=\"dataframe\">\n",
       "  <thead>\n",
       "    <tr style=\"text-align: right;\">\n",
       "      <th></th>\n",
       "      <th>Country</th>\n",
       "      <th>VC Name</th>\n",
       "      <th>Announced Date</th>\n",
       "      <th>Organization Name</th>\n",
       "      <th>Lead Investor</th>\n",
       "      <th>Funding Round</th>\n",
       "      <th>Money Raised</th>\n",
       "    </tr>\n",
       "  </thead>\n",
       "  <tbody>\n",
       "    <tr>\n",
       "      <th>131</th>\n",
       "      <td>USA</td>\n",
       "      <td>Union Square Ventures</td>\n",
       "      <td>Apr 30, 2020</td>\n",
       "      <td>PROPS</td>\n",
       "      <td>Yes</td>\n",
       "      <td>Initial Coin Offering - PROPS</td>\n",
       "      <td>$2M</td>\n",
       "    </tr>\n",
       "    <tr>\n",
       "      <th>132</th>\n",
       "      <td>USA</td>\n",
       "      <td>Union Square Ventures</td>\n",
       "      <td>Apr 30, 2020</td>\n",
       "      <td>PROPS</td>\n",
       "      <td>Yes</td>\n",
       "      <td>Initial Coin Offering - PROPS</td>\n",
       "      <td>$2M</td>\n",
       "    </tr>\n",
       "    <tr>\n",
       "      <th>631</th>\n",
       "      <td>China</td>\n",
       "      <td>GSR Ventures</td>\n",
       "      <td>Apr 30, 2020</td>\n",
       "      <td>PROPS</td>\n",
       "      <td>—</td>\n",
       "      <td>Initial Coin Offering - PROPS</td>\n",
       "      <td>$2M</td>\n",
       "    </tr>\n",
       "  </tbody>\n",
       "</table>\n",
       "</div>"
      ],
      "text/plain": [
       "    Country                VC Name Announced Date Organization Name  \\\n",
       "131     USA  Union Square Ventures   Apr 30, 2020             PROPS   \n",
       "132     USA  Union Square Ventures   Apr 30, 2020             PROPS   \n",
       "631   China           GSR Ventures   Apr 30, 2020             PROPS   \n",
       "\n",
       "    Lead Investor                  Funding Round Money Raised  \n",
       "131           Yes  Initial Coin Offering - PROPS          $2M  \n",
       "132           Yes  Initial Coin Offering - PROPS          $2M  \n",
       "631             —  Initial Coin Offering - PROPS          $2M  "
      ]
     },
     "execution_count": 130,
     "metadata": {},
     "output_type": "execute_result"
    }
   ],
   "source": [
    "props = df[df['Organization Name'] == 'PROPS']\n",
    "props"
   ]
  },
  {
   "cell_type": "code",
   "execution_count": 131,
   "metadata": {},
   "outputs": [
    {
     "data": {
      "text/html": [
       "<div>\n",
       "<style scoped>\n",
       "    .dataframe tbody tr th:only-of-type {\n",
       "        vertical-align: middle;\n",
       "    }\n",
       "\n",
       "    .dataframe tbody tr th {\n",
       "        vertical-align: top;\n",
       "    }\n",
       "\n",
       "    .dataframe thead th {\n",
       "        text-align: right;\n",
       "    }\n",
       "</style>\n",
       "<table border=\"1\" class=\"dataframe\">\n",
       "  <thead>\n",
       "    <tr style=\"text-align: right;\">\n",
       "      <th></th>\n",
       "      <th>Country</th>\n",
       "      <th>VC Name</th>\n",
       "      <th>Announced Date</th>\n",
       "      <th>Organization Name</th>\n",
       "      <th>Lead Investor</th>\n",
       "      <th>Funding Round</th>\n",
       "      <th>Money Raised</th>\n",
       "    </tr>\n",
       "  </thead>\n",
       "  <tbody>\n",
       "    <tr>\n",
       "      <th>34</th>\n",
       "      <td>USA</td>\n",
       "      <td>Sequoia Capital</td>\n",
       "      <td>Feb 6, 2020</td>\n",
       "      <td>Netskope</td>\n",
       "      <td>Yes</td>\n",
       "      <td>Series G - Netskope</td>\n",
       "      <td>$340M</td>\n",
       "    </tr>\n",
       "    <tr>\n",
       "      <th>121</th>\n",
       "      <td>USA</td>\n",
       "      <td>Lightspeed Venture Partners</td>\n",
       "      <td>Feb 6, 2020</td>\n",
       "      <td>Netskope</td>\n",
       "      <td>—</td>\n",
       "      <td>Series G - Netskope</td>\n",
       "      <td>$340M</td>\n",
       "    </tr>\n",
       "    <tr>\n",
       "      <th>316</th>\n",
       "      <td>USA</td>\n",
       "      <td>Accel</td>\n",
       "      <td>Feb 6, 2020</td>\n",
       "      <td>Netskope</td>\n",
       "      <td>—</td>\n",
       "      <td>Series G - Netskope</td>\n",
       "      <td>$340M</td>\n",
       "    </tr>\n",
       "  </tbody>\n",
       "</table>\n",
       "</div>"
      ],
      "text/plain": [
       "    Country                      VC Name Announced Date Organization Name  \\\n",
       "34      USA              Sequoia Capital    Feb 6, 2020          Netskope   \n",
       "121     USA  Lightspeed Venture Partners    Feb 6, 2020          Netskope   \n",
       "316     USA                        Accel    Feb 6, 2020          Netskope   \n",
       "\n",
       "    Lead Investor        Funding Round Money Raised  \n",
       "34            Yes  Series G - Netskope        $340M  \n",
       "121             —  Series G - Netskope        $340M  \n",
       "316             —  Series G - Netskope        $340M  "
      ]
     },
     "execution_count": 131,
     "metadata": {},
     "output_type": "execute_result"
    }
   ],
   "source": [
    "netskope = df[df['Organization Name'] == 'Netskope']\n",
    "netskope"
   ]
  },
  {
   "cell_type": "code",
   "execution_count": 132,
   "metadata": {},
   "outputs": [
    {
     "data": {
      "text/html": [
       "<div>\n",
       "<style scoped>\n",
       "    .dataframe tbody tr th:only-of-type {\n",
       "        vertical-align: middle;\n",
       "    }\n",
       "\n",
       "    .dataframe tbody tr th {\n",
       "        vertical-align: top;\n",
       "    }\n",
       "\n",
       "    .dataframe thead th {\n",
       "        text-align: right;\n",
       "    }\n",
       "</style>\n",
       "<table border=\"1\" class=\"dataframe\">\n",
       "  <thead>\n",
       "    <tr style=\"text-align: right;\">\n",
       "      <th></th>\n",
       "      <th>Country</th>\n",
       "      <th>VC Name</th>\n",
       "      <th>Announced Date</th>\n",
       "      <th>Organization Name</th>\n",
       "      <th>Lead Investor</th>\n",
       "      <th>Funding Round</th>\n",
       "      <th>Money Raised</th>\n",
       "    </tr>\n",
       "  </thead>\n",
       "  <tbody>\n",
       "    <tr>\n",
       "      <th>69</th>\n",
       "      <td>USA</td>\n",
       "      <td>Founders Fund</td>\n",
       "      <td>May 27, 2020</td>\n",
       "      <td>Siren</td>\n",
       "      <td>—</td>\n",
       "      <td>Series B - Siren</td>\n",
       "      <td>$11.8M</td>\n",
       "    </tr>\n",
       "    <tr>\n",
       "      <th>223</th>\n",
       "      <td>USA</td>\n",
       "      <td>Khosla Ventures</td>\n",
       "      <td>May 27, 2020</td>\n",
       "      <td>Siren</td>\n",
       "      <td>—</td>\n",
       "      <td>Series B - Siren</td>\n",
       "      <td>$11.8M</td>\n",
       "    </tr>\n",
       "    <tr>\n",
       "      <th>641</th>\n",
       "      <td>China</td>\n",
       "      <td>DCM Ventures</td>\n",
       "      <td>May 27, 2020</td>\n",
       "      <td>Siren</td>\n",
       "      <td>—</td>\n",
       "      <td>Series B - Siren</td>\n",
       "      <td>$11.8M</td>\n",
       "    </tr>\n",
       "  </tbody>\n",
       "</table>\n",
       "</div>"
      ],
      "text/plain": [
       "    Country          VC Name Announced Date Organization Name Lead Investor  \\\n",
       "69      USA    Founders Fund   May 27, 2020             Siren             —   \n",
       "223     USA  Khosla Ventures   May 27, 2020             Siren             —   \n",
       "641   China     DCM Ventures   May 27, 2020             Siren             —   \n",
       "\n",
       "        Funding Round Money Raised  \n",
       "69   Series B - Siren       $11.8M  \n",
       "223  Series B - Siren       $11.8M  \n",
       "641  Series B - Siren       $11.8M  "
      ]
     },
     "execution_count": 132,
     "metadata": {},
     "output_type": "execute_result"
    }
   ],
   "source": [
    "siren = df[df['Organization Name'] == 'Siren']\n",
    "siren"
   ]
  },
  {
   "cell_type": "code",
   "execution_count": 135,
   "metadata": {},
   "outputs": [
    {
     "data": {
      "text/html": [
       "<div>\n",
       "<style scoped>\n",
       "    .dataframe tbody tr th:only-of-type {\n",
       "        vertical-align: middle;\n",
       "    }\n",
       "\n",
       "    .dataframe tbody tr th {\n",
       "        vertical-align: top;\n",
       "    }\n",
       "\n",
       "    .dataframe thead th {\n",
       "        text-align: right;\n",
       "    }\n",
       "</style>\n",
       "<table border=\"1\" class=\"dataframe\">\n",
       "  <thead>\n",
       "    <tr style=\"text-align: right;\">\n",
       "      <th></th>\n",
       "      <th>Country</th>\n",
       "      <th>VC Name</th>\n",
       "      <th>Announced Date</th>\n",
       "      <th>Organization Name</th>\n",
       "      <th>Lead Investor</th>\n",
       "      <th>Funding Round</th>\n",
       "      <th>Money Raised</th>\n",
       "    </tr>\n",
       "  </thead>\n",
       "  <tbody>\n",
       "    <tr>\n",
       "      <th>447</th>\n",
       "      <td>China</td>\n",
       "      <td>Sequoia Capital China</td>\n",
       "      <td>Mar 16, 2020</td>\n",
       "      <td>Encootech</td>\n",
       "      <td>Yes</td>\n",
       "      <td>Series B - Encootech</td>\n",
       "      <td>$30M</td>\n",
       "    </tr>\n",
       "    <tr>\n",
       "      <th>606</th>\n",
       "      <td>China</td>\n",
       "      <td>Shenzhen Capital Group</td>\n",
       "      <td>Mar 16, 2020</td>\n",
       "      <td>Encootech</td>\n",
       "      <td>—</td>\n",
       "      <td>Series B - Encootech</td>\n",
       "      <td>$30M</td>\n",
       "    </tr>\n",
       "    <tr>\n",
       "      <th>633</th>\n",
       "      <td>China</td>\n",
       "      <td>GSR Ventures</td>\n",
       "      <td>Mar 16, 2020</td>\n",
       "      <td>Encootech</td>\n",
       "      <td>—</td>\n",
       "      <td>Series B - Encootech</td>\n",
       "      <td>$30M</td>\n",
       "    </tr>\n",
       "  </tbody>\n",
       "</table>\n",
       "</div>"
      ],
      "text/plain": [
       "    Country                 VC Name Announced Date Organization Name  \\\n",
       "447   China   Sequoia Capital China   Mar 16, 2020         Encootech   \n",
       "606   China  Shenzhen Capital Group   Mar 16, 2020         Encootech   \n",
       "633   China            GSR Ventures   Mar 16, 2020         Encootech   \n",
       "\n",
       "    Lead Investor         Funding Round Money Raised  \n",
       "447           Yes  Series B - Encootech         $30M  \n",
       "606             —  Series B - Encootech         $30M  \n",
       "633             —  Series B - Encootech         $30M  "
      ]
     },
     "execution_count": 135,
     "metadata": {},
     "output_type": "execute_result"
    }
   ],
   "source": [
    "encootech = df[df['Organization Name'] == 'Encootech']\n",
    "encootech"
   ]
  },
  {
   "cell_type": "code",
   "execution_count": 105,
   "metadata": {},
   "outputs": [
    {
     "data": {
      "text/plain": [
       "{'Vedantu': 5,\n",
       " 'Figma': 5,\n",
       " 'Run The World': 5,\n",
       " 'Kuaidian Yuedu': 4,\n",
       " 'Karius': 3,\n",
       " 'Cockroach Labs': 3,\n",
       " 'Encootech': 3,\n",
       " 'DEEPEXI': 3,\n",
       " 'Sensors Data': 3,\n",
       " 'Netskope': 3,\n",
       " 'Personio': 3,\n",
       " 'Q Bio': 3,\n",
       " 'Siren': 3,\n",
       " 'PROPS': 3,\n",
       " 'Airwallex': 2}"
      ]
     },
     "execution_count": 105,
     "metadata": {},
     "output_type": "execute_result"
    }
   ],
   "source": [
    "lollipop = dict(df['Organization Name'].value_counts().head(15))\n",
    "lollipop"
   ]
  },
  {
   "cell_type": "code",
   "execution_count": 128,
   "metadata": {
    "scrolled": true
   },
   "outputs": [
    {
     "data": {
      "image/png": "[encoded data removed]",
      "text/plain": [
       "<Figure size 864x720 with 1 Axes>"
      ]
     },
     "metadata": {
      "needs_background": "light"
     },
     "output_type": "display_data"
    }
   ],
   "source": [
    "#bubble chart: org name, x = series, y = num of investors, size = funding size\n",
    "import matplotlib.cm as cm\n",
    "\n",
    "plt.figure(figsize=(12,10))\n",
    "\n",
    "N=14\n",
    "organization = ['Vedantu','Figma','Run The World','Kuaidian Yuedu','Karius', 'Q Bio', 'Personio', 'Sensors Data', \n",
    "                'DEEPEXI', 'Cockroach Labs', 'PROPS','Netskope','Siren','Encootech']\n",
    "#investor_num = [3, 5, 4, 4, 3, 3, 3, 3, 3, 3, 3, 3, 3, 3]\n",
    "#ICO0, A1, B2, C3, D4, E5, F6, G7 \n",
    "#series = ['D', 'D', 'A', \"C\", 'B', 'B', 'C', 'C', 'A', 'D', 'ICO', 'G', 'B', 'B']\n",
    "funding_round = [4, 4, 1, 3, 2, 2, 3, 3, 1, 4, 0, 7, 2, 2]\n",
    "investment_size = [124, 50, 14.8, 100, 165, 40, 75, 30, 50, 86.6, 2, 340, 11.8, 30]\n",
    "size = [1000, 400, 120, 800, 1320, 320, 600, 240, 400, 640, 16, 2640, 88, 240]\n",
    "\n",
    "# Choose some random colors\n",
    "colors=cm.rainbow(np.random.rand(N))\n",
    "\n",
    "# Use those colors as the color argument\n",
    "plt.scatter(funding_round,investment_size,s=size,color=colors)\n",
    "for i in range(N):\n",
    "    plt.annotate(organization[i],xy=(funding_round[i],investment_size[i]))\n",
    "plt.xlabel('Funding Round')\n",
    "plt.ylabel('Funding Size')\n",
    "\n",
    "plt.scatter(funding_round,investment_size,s=size,color=colors)\n",
    "for i in range(N):\n",
    "    plt.annotate(organization[i],xy=(funding_round[i],investment_size[i]))\n",
    "\n",
    "# Move title up with the \"y\" option\n",
    "plt.title('Companies with >= 3 Investors: Funding Round & Funding Size',y=1.01, size=20)\n",
    "plt.show()\n",
    "\n"
   ]
  },
  {
   "cell_type": "code",
   "execution_count": 203,
   "metadata": {
    "scrolled": false
   },
   "outputs": [
    {
     "data": {
      "image/png": "[encoded data removed]",
      "text/plain": [
       "<Figure size 1008x720 with 1 Axes>"
      ]
     },
     "metadata": {
      "needs_background": "light"
     },
     "output_type": "display_data"
    }
   ],
   "source": [
    "#bubble chart: org name, x = series, y = num of investors, size = funding size\n",
    "#currently the data is hard-coded, would be interesting to automate it based on selecting subsets from the dataframe \n",
    "import matplotlib.cm as cm\n",
    "\n",
    "plt.figure(figsize=(14,10))\n",
    "\n",
    "org_both = ['Vedantu', 'Run The World', 'PROPS', 'Siren']\n",
    "fund_both = [4, 1, 0, 2]\n",
    "invest_both = [124, 14.8, 2, 11.8]\n",
    "size_both = [1000, 120, 16, 88]\n",
    "\n",
    "org_usa = ['Figma', 'Karius', 'Q Bio', 'Personio', 'Cockroach Labs', 'Netskope']\n",
    "fund_usa = [4, 2, 2, 3, 4, 7]\n",
    "invest_usa = [50, 165, 40, 75, 86.6, 340]\n",
    "size_usa = [400, 1320, 320, 600, 640, 2640]\n",
    "\n",
    "org_china = ['Kuaidian Yuedu', 'Sensors Data', 'DEEPEXI', 'Encootech']\n",
    "fund_china = [3, 3, 1, 2]\n",
    "invest_china = [100, 30, 50, 30]\n",
    "size_china = [800, 240, 400, 240]\n",
    " \n",
    "#plot companies invested by both US and China investors\n",
    "plt.scatter(fund_both,invest_both,s=size_both,color='#d3d3d3')\n",
    "for i in range(len(org_both)):\n",
    "    plt.annotate(org_both[i],xy=(fund_both[i],invest_both[i]))\n",
    "    \n",
    "#plot companies invested by US investors\n",
    "plt.scatter(fund_usa,invest_usa,s=size_usa,color='#89cff0')\n",
    "for i in range(len(org_usa)):\n",
    "    plt.annotate(org_usa[i],xy=(fund_usa[i],invest_usa[i]))\n",
    "\n",
    "#plot companies invested by China investors\n",
    "plt.scatter(fund_china,invest_china,s=size_china,color='#f4c2c2')\n",
    "for i in range(len(org_china)):\n",
    "    plt.annotate(org_china[i],xy=(fund_china[i],invest_china[i]))\n",
    "    \n",
    "\n",
    "#labels = [item.get_text() for item in ax.get_xticklabels()]\n",
    "#labels[1] = 'Testing'\n",
    "#ax.set_xticklabels(labels)\n",
    "#ICO0, A1, B2, C3, D4, E5, F6, G7 \n",
    "plt.xticks(np.arange(8), ['ICO/Seed', 'Series A', 'Series B', 'Series C', 'Series D', 'Series E', 'Series F', 'Series G'])\n",
    "\n",
    "plt.xlabel('Funding Round')\n",
    "plt.ylabel('Funding Size (in US$ Millions)')\n",
    "\n",
    "#ax.legend(('USA VC Investments','China VC Investments', 'Both'))\n",
    "\n",
    "# Move title up with the \"y\" option\n",
    "plt.title('Companies with >= 3 Top Investors: Funding Round & Funding Size',y=1.01, size=20)\n",
    "plt.show()"
   ]
  },
  {
   "cell_type": "code",
   "execution_count": 99,
   "metadata": {},
   "outputs": [
    {
     "data": {
      "text/plain": [
       "Figma            5\n",
       "Run The World    3\n",
       "Personio         3\n",
       "Karius           3\n",
       "Netskope         3\n",
       "                ..\n",
       "Anyfin           1\n",
       "Vendia           1\n",
       "Octant Bio       1\n",
       "Suki             1\n",
       "Stash            1\n",
       "Name: Organization Name, Length: 348, dtype: int64"
      ]
     },
     "execution_count": 99,
     "metadata": {},
     "output_type": "execute_result"
    }
   ],
   "source": [
    "usa['Organization Name'].value_counts()"
   ]
  },
  {
   "cell_type": "code",
   "execution_count": 101,
   "metadata": {},
   "outputs": [
    {
     "data": {
      "text/plain": [
       "Kuaidian Yuedu          4\n",
       "Sensors Data            3\n",
       "Vedantu                 3\n",
       "Encootech               3\n",
       "DEEPEXI                 3\n",
       "                       ..\n",
       "JenaValve Technology    1\n",
       "ADVANCE.AI              1\n",
       "Yasten                  1\n",
       "Guoxing Aerospace       1\n",
       "Ferrum Health           1\n",
       "Name: Organization Name, Length: 190, dtype: int64"
      ]
     },
     "execution_count": 101,
     "metadata": {},
     "output_type": "execute_result"
    }
   ],
   "source": [
    "china['Organization Name'].value_counts()"
   ]
  },
  {
   "cell_type": "code",
   "execution_count": 140,
   "metadata": {},
   "outputs": [
    {
     "data": {
      "text/plain": [
       "(648, 7)"
      ]
     },
     "execution_count": 140,
     "metadata": {},
     "output_type": "execute_result"
    }
   ],
   "source": [
    "df.shape"
   ]
  },
  {
   "cell_type": "code",
   "execution_count": 152,
   "metadata": {},
   "outputs": [
    {
     "data": {
      "text/plain": [
       "Vedantu                   5\n",
       "Figma                     5\n",
       "Run The World             5\n",
       "Kuaidian Yuedu            4\n",
       "Karius                    3\n",
       "                         ..\n",
       "taxProper                 1\n",
       "DroneBase                 1\n",
       "Yasten                    1\n",
       "Neurophth Therapeutics    1\n",
       "Canva                     1\n",
       "Name: Organization Name, Length: 528, dtype: int64"
      ]
     },
     "execution_count": 152,
     "metadata": {},
     "output_type": "execute_result"
    }
   ],
   "source": [
    "df['Organization Name'].value_counts()"
   ]
  },
  {
   "cell_type": "code",
   "execution_count": 158,
   "metadata": {},
   "outputs": [
    {
     "data": {
      "text/plain": [
       "Vedantu                    True\n",
       "Figma                      True\n",
       "Run The World              True\n",
       "Kuaidian Yuedu             True\n",
       "Karius                     True\n",
       "                          ...  \n",
       "taxProper                 False\n",
       "DroneBase                 False\n",
       "Yasten                    False\n",
       "Neurophth Therapeutics    False\n",
       "Canva                     False\n",
       "Name: Organization Name, Length: 528, dtype: bool"
      ]
     },
     "execution_count": 158,
     "metadata": {},
     "output_type": "execute_result"
    }
   ],
   "source": [
    "df['Organization Name'].value_counts() > 2"
   ]
  },
  {
   "cell_type": "code",
   "execution_count": 100,
   "metadata": {},
   "outputs": [],
   "source": [
    "#top_14 = df[(df['Organization Name'] == 'Vedantu'  df['Organization Name'] == 'Figtma'  )]"
   ]
  },
  {
   "cell_type": "code",
   "execution_count": 101,
   "metadata": {},
   "outputs": [],
   "source": [
    "#loligraph = pd.DataFrame.from_dict(lollipop)"
   ]
  },
  {
   "cell_type": "code",
   "execution_count": 40,
   "metadata": {},
   "outputs": [
    {
     "name": "stderr",
     "output_type": "stream",
     "text": [
      "C:\\Users\\owner\\anaconda3\\lib\\site-packages\\ipykernel_launcher.py:2: UserWarning: In Matplotlib 3.3 individual lines on a stem plot will be added as a LineCollection instead of individual lines. This significantly improves the performance of a stem plot. To remove this warning and switch to the new behaviour, set the \"use_line_collection\" keyword argument to True.\n",
      "  \n"
     ]
    },
    {
     "ename": "TypeError",
     "evalue": "len() of unsized object",
     "output_type": "error",
     "traceback": [
      "\u001b[1;31m---------------------------------------------------------------------------\u001b[0m",
      "\u001b[1;31mTypeError\u001b[0m                                 Traceback (most recent call last)",
      "\u001b[1;32m<ipython-input-40-c30215c527ae>\u001b[0m in \u001b[0;36m<module>\u001b[1;34m\u001b[0m\n\u001b[0;32m      1\u001b[0m \u001b[1;31m# Make the plot\u001b[0m\u001b[1;33m\u001b[0m\u001b[1;33m\u001b[0m\u001b[1;33m\u001b[0m\u001b[0m\n\u001b[0;32m      2\u001b[0m \u001b[0mplt\u001b[0m\u001b[1;33m.\u001b[0m\u001b[0mstem\u001b[0m\u001b[1;33m(\u001b[0m\u001b[0mlollipop\u001b[0m\u001b[1;33m.\u001b[0m\u001b[0mvalues\u001b[0m\u001b[1;33m(\u001b[0m\u001b[1;33m)\u001b[0m\u001b[1;33m)\u001b[0m\u001b[1;33m\u001b[0m\u001b[1;33m\u001b[0m\u001b[0m\n\u001b[1;32m----> 3\u001b[1;33m \u001b[0mplt\u001b[0m\u001b[1;33m.\u001b[0m\u001b[0mxticks\u001b[0m\u001b[1;33m(\u001b[0m\u001b[0mlollipop\u001b[0m\u001b[1;33m.\u001b[0m\u001b[0mvalues\u001b[0m\u001b[1;33m(\u001b[0m\u001b[1;33m)\u001b[0m\u001b[1;33m,\u001b[0m \u001b[0mlollipop\u001b[0m\u001b[1;33m.\u001b[0m\u001b[0mkeys\u001b[0m\u001b[1;33m(\u001b[0m\u001b[1;33m)\u001b[0m\u001b[1;33m)\u001b[0m\u001b[1;33m\u001b[0m\u001b[1;33m\u001b[0m\u001b[0m\n\u001b[0m\u001b[0;32m      4\u001b[0m \u001b[1;33m\u001b[0m\u001b[0m\n\u001b[0;32m      5\u001b[0m \u001b[1;33m\u001b[0m\u001b[0m\n",
      "\u001b[1;32m~\\anaconda3\\lib\\site-packages\\matplotlib\\pyplot.py\u001b[0m in \u001b[0;36mxticks\u001b[1;34m(ticks, labels, **kwargs)\u001b[0m\n\u001b[0;32m   1542\u001b[0m     \u001b[1;32melse\u001b[0m\u001b[1;33m:\u001b[0m\u001b[1;33m\u001b[0m\u001b[1;33m\u001b[0m\u001b[0m\n\u001b[0;32m   1543\u001b[0m         \u001b[0mlocs\u001b[0m \u001b[1;33m=\u001b[0m \u001b[0max\u001b[0m\u001b[1;33m.\u001b[0m\u001b[0mset_xticks\u001b[0m\u001b[1;33m(\u001b[0m\u001b[0mticks\u001b[0m\u001b[1;33m)\u001b[0m\u001b[1;33m\u001b[0m\u001b[1;33m\u001b[0m\u001b[0m\n\u001b[1;32m-> 1544\u001b[1;33m         \u001b[0mlabels\u001b[0m \u001b[1;33m=\u001b[0m \u001b[0max\u001b[0m\u001b[1;33m.\u001b[0m\u001b[0mset_xticklabels\u001b[0m\u001b[1;33m(\u001b[0m\u001b[0mlabels\u001b[0m\u001b[1;33m,\u001b[0m \u001b[1;33m**\u001b[0m\u001b[0mkwargs\u001b[0m\u001b[1;33m)\u001b[0m\u001b[1;33m\u001b[0m\u001b[1;33m\u001b[0m\u001b[0m\n\u001b[0m\u001b[0;32m   1545\u001b[0m     \u001b[1;32mfor\u001b[0m \u001b[0ml\u001b[0m \u001b[1;32min\u001b[0m \u001b[0mlabels\u001b[0m\u001b[1;33m:\u001b[0m\u001b[1;33m\u001b[0m\u001b[1;33m\u001b[0m\u001b[0m\n\u001b[0;32m   1546\u001b[0m         \u001b[0ml\u001b[0m\u001b[1;33m.\u001b[0m\u001b[0mupdate\u001b[0m\u001b[1;33m(\u001b[0m\u001b[0mkwargs\u001b[0m\u001b[1;33m)\u001b[0m\u001b[1;33m\u001b[0m\u001b[1;33m\u001b[0m\u001b[0m\n",
      "\u001b[1;32m~\\anaconda3\\lib\\site-packages\\matplotlib\\axes\\_base.py\u001b[0m in \u001b[0;36mset_xticklabels\u001b[1;34m(self, labels, fontdict, minor, **kwargs)\u001b[0m\n\u001b[0;32m   3432\u001b[0m             \u001b[0mkwargs\u001b[0m\u001b[1;33m.\u001b[0m\u001b[0mupdate\u001b[0m\u001b[1;33m(\u001b[0m\u001b[0mfontdict\u001b[0m\u001b[1;33m)\u001b[0m\u001b[1;33m\u001b[0m\u001b[1;33m\u001b[0m\u001b[0m\n\u001b[0;32m   3433\u001b[0m         ret = self.xaxis.set_ticklabels(labels,\n\u001b[1;32m-> 3434\u001b[1;33m                                         minor=minor, **kwargs)\n\u001b[0m\u001b[0;32m   3435\u001b[0m         \u001b[0mself\u001b[0m\u001b[1;33m.\u001b[0m\u001b[0mstale\u001b[0m \u001b[1;33m=\u001b[0m \u001b[1;32mTrue\u001b[0m\u001b[1;33m\u001b[0m\u001b[1;33m\u001b[0m\u001b[0m\n\u001b[0;32m   3436\u001b[0m         \u001b[1;32mreturn\u001b[0m \u001b[0mret\u001b[0m\u001b[1;33m\u001b[0m\u001b[1;33m\u001b[0m\u001b[0m\n",
      "\u001b[1;32m~\\anaconda3\\lib\\site-packages\\matplotlib\\axis.py\u001b[0m in \u001b[0;36mset_ticklabels\u001b[1;34m(self, ticklabels, minor, *args, **kwargs)\u001b[0m\n\u001b[0;32m   1721\u001b[0m         \u001b[1;32melse\u001b[0m\u001b[1;33m:\u001b[0m\u001b[1;33m\u001b[0m\u001b[1;33m\u001b[0m\u001b[0m\n\u001b[0;32m   1722\u001b[0m             \u001b[0mself\u001b[0m\u001b[1;33m.\u001b[0m\u001b[0mset_major_formatter\u001b[0m\u001b[1;33m(\u001b[0m\u001b[0mmticker\u001b[0m\u001b[1;33m.\u001b[0m\u001b[0mFixedFormatter\u001b[0m\u001b[1;33m(\u001b[0m\u001b[0mticklabels\u001b[0m\u001b[1;33m)\u001b[0m\u001b[1;33m)\u001b[0m\u001b[1;33m\u001b[0m\u001b[1;33m\u001b[0m\u001b[0m\n\u001b[1;32m-> 1723\u001b[1;33m             \u001b[0mticks\u001b[0m \u001b[1;33m=\u001b[0m \u001b[0mself\u001b[0m\u001b[1;33m.\u001b[0m\u001b[0mget_major_ticks\u001b[0m\u001b[1;33m(\u001b[0m\u001b[1;33m)\u001b[0m\u001b[1;33m\u001b[0m\u001b[1;33m\u001b[0m\u001b[0m\n\u001b[0m\u001b[0;32m   1724\u001b[0m         \u001b[0mret\u001b[0m \u001b[1;33m=\u001b[0m \u001b[1;33m[\u001b[0m\u001b[1;33m]\u001b[0m\u001b[1;33m\u001b[0m\u001b[1;33m\u001b[0m\u001b[0m\n\u001b[0;32m   1725\u001b[0m         \u001b[1;32mfor\u001b[0m \u001b[0mtick_label\u001b[0m\u001b[1;33m,\u001b[0m \u001b[0mtick\u001b[0m \u001b[1;32min\u001b[0m \u001b[0mzip\u001b[0m\u001b[1;33m(\u001b[0m\u001b[0mticklabels\u001b[0m\u001b[1;33m,\u001b[0m \u001b[0mticks\u001b[0m\u001b[1;33m)\u001b[0m\u001b[1;33m:\u001b[0m\u001b[1;33m\u001b[0m\u001b[1;33m\u001b[0m\u001b[0m\n",
      "\u001b[1;32m~\\anaconda3\\lib\\site-packages\\matplotlib\\axis.py\u001b[0m in \u001b[0;36mget_major_ticks\u001b[1;34m(self, numticks)\u001b[0m\n\u001b[0;32m   1405\u001b[0m         \u001b[1;34m'Get the tick instances; grow as necessary.'\u001b[0m\u001b[1;33m\u001b[0m\u001b[1;33m\u001b[0m\u001b[0m\n\u001b[0;32m   1406\u001b[0m         \u001b[1;32mif\u001b[0m \u001b[0mnumticks\u001b[0m \u001b[1;32mis\u001b[0m \u001b[1;32mNone\u001b[0m\u001b[1;33m:\u001b[0m\u001b[1;33m\u001b[0m\u001b[1;33m\u001b[0m\u001b[0m\n\u001b[1;32m-> 1407\u001b[1;33m             \u001b[0mnumticks\u001b[0m \u001b[1;33m=\u001b[0m \u001b[0mlen\u001b[0m\u001b[1;33m(\u001b[0m\u001b[0mself\u001b[0m\u001b[1;33m.\u001b[0m\u001b[0mget_majorticklocs\u001b[0m\u001b[1;33m(\u001b[0m\u001b[1;33m)\u001b[0m\u001b[1;33m)\u001b[0m\u001b[1;33m\u001b[0m\u001b[1;33m\u001b[0m\u001b[0m\n\u001b[0m\u001b[0;32m   1408\u001b[0m \u001b[1;33m\u001b[0m\u001b[0m\n\u001b[0;32m   1409\u001b[0m         \u001b[1;32mwhile\u001b[0m \u001b[0mlen\u001b[0m\u001b[1;33m(\u001b[0m\u001b[0mself\u001b[0m\u001b[1;33m.\u001b[0m\u001b[0mmajorTicks\u001b[0m\u001b[1;33m)\u001b[0m \u001b[1;33m<\u001b[0m \u001b[0mnumticks\u001b[0m\u001b[1;33m:\u001b[0m\u001b[1;33m\u001b[0m\u001b[1;33m\u001b[0m\u001b[0m\n",
      "\u001b[1;31mTypeError\u001b[0m: len() of unsized object"
     ]
    },
    {
     "ename": "TypeError",
     "evalue": "len() of unsized object",
     "output_type": "error",
     "traceback": [
      "\u001b[1;31m---------------------------------------------------------------------------\u001b[0m",
      "\u001b[1;31mTypeError\u001b[0m                                 Traceback (most recent call last)",
      "\u001b[1;32m~\\anaconda3\\lib\\site-packages\\ipykernel\\pylab\\backend_inline.py\u001b[0m in \u001b[0;36mshow\u001b[1;34m(close, block)\u001b[0m\n\u001b[0;32m     41\u001b[0m             display(\n\u001b[0;32m     42\u001b[0m                 \u001b[0mfigure_manager\u001b[0m\u001b[1;33m.\u001b[0m\u001b[0mcanvas\u001b[0m\u001b[1;33m.\u001b[0m\u001b[0mfigure\u001b[0m\u001b[1;33m,\u001b[0m\u001b[1;33m\u001b[0m\u001b[1;33m\u001b[0m\u001b[0m\n\u001b[1;32m---> 43\u001b[1;33m                 \u001b[0mmetadata\u001b[0m\u001b[1;33m=\u001b[0m\u001b[0m_fetch_figure_metadata\u001b[0m\u001b[1;33m(\u001b[0m\u001b[0mfigure_manager\u001b[0m\u001b[1;33m.\u001b[0m\u001b[0mcanvas\u001b[0m\u001b[1;33m.\u001b[0m\u001b[0mfigure\u001b[0m\u001b[1;33m)\u001b[0m\u001b[1;33m\u001b[0m\u001b[1;33m\u001b[0m\u001b[0m\n\u001b[0m\u001b[0;32m     44\u001b[0m             )\n\u001b[0;32m     45\u001b[0m     \u001b[1;32mfinally\u001b[0m\u001b[1;33m:\u001b[0m\u001b[1;33m\u001b[0m\u001b[1;33m\u001b[0m\u001b[0m\n",
      "\u001b[1;32m~\\anaconda3\\lib\\site-packages\\ipykernel\\pylab\\backend_inline.py\u001b[0m in \u001b[0;36m_fetch_figure_metadata\u001b[1;34m(fig)\u001b[0m\n\u001b[0;32m    179\u001b[0m         \u001b[1;31m# the background is transparent\u001b[0m\u001b[1;33m\u001b[0m\u001b[1;33m\u001b[0m\u001b[1;33m\u001b[0m\u001b[0m\n\u001b[0;32m    180\u001b[0m         ticksLight = _is_light([label.get_color()\n\u001b[1;32m--> 181\u001b[1;33m                                 \u001b[1;32mfor\u001b[0m \u001b[0maxes\u001b[0m \u001b[1;32min\u001b[0m \u001b[0mfig\u001b[0m\u001b[1;33m.\u001b[0m\u001b[0maxes\u001b[0m\u001b[1;33m\u001b[0m\u001b[1;33m\u001b[0m\u001b[0m\n\u001b[0m\u001b[0;32m    182\u001b[0m                                 \u001b[1;32mfor\u001b[0m \u001b[0maxis\u001b[0m \u001b[1;32min\u001b[0m \u001b[1;33m(\u001b[0m\u001b[0maxes\u001b[0m\u001b[1;33m.\u001b[0m\u001b[0mxaxis\u001b[0m\u001b[1;33m,\u001b[0m \u001b[0maxes\u001b[0m\u001b[1;33m.\u001b[0m\u001b[0myaxis\u001b[0m\u001b[1;33m)\u001b[0m\u001b[1;33m\u001b[0m\u001b[1;33m\u001b[0m\u001b[0m\n\u001b[0;32m    183\u001b[0m                                 for label in axis.get_ticklabels()])\n",
      "\u001b[1;32m~\\anaconda3\\lib\\site-packages\\ipykernel\\pylab\\backend_inline.py\u001b[0m in \u001b[0;36m<listcomp>\u001b[1;34m(.0)\u001b[0m\n\u001b[0;32m    181\u001b[0m                                 \u001b[1;32mfor\u001b[0m \u001b[0maxes\u001b[0m \u001b[1;32min\u001b[0m \u001b[0mfig\u001b[0m\u001b[1;33m.\u001b[0m\u001b[0maxes\u001b[0m\u001b[1;33m\u001b[0m\u001b[1;33m\u001b[0m\u001b[0m\n\u001b[0;32m    182\u001b[0m                                 \u001b[1;32mfor\u001b[0m \u001b[0maxis\u001b[0m \u001b[1;32min\u001b[0m \u001b[1;33m(\u001b[0m\u001b[0maxes\u001b[0m\u001b[1;33m.\u001b[0m\u001b[0mxaxis\u001b[0m\u001b[1;33m,\u001b[0m \u001b[0maxes\u001b[0m\u001b[1;33m.\u001b[0m\u001b[0myaxis\u001b[0m\u001b[1;33m)\u001b[0m\u001b[1;33m\u001b[0m\u001b[1;33m\u001b[0m\u001b[0m\n\u001b[1;32m--> 183\u001b[1;33m                                 for label in axis.get_ticklabels()])\n\u001b[0m\u001b[0;32m    184\u001b[0m         \u001b[1;32mif\u001b[0m \u001b[0mticksLight\u001b[0m\u001b[1;33m.\u001b[0m\u001b[0msize\u001b[0m \u001b[1;32mand\u001b[0m \u001b[1;33m(\u001b[0m\u001b[0mticksLight\u001b[0m \u001b[1;33m==\u001b[0m \u001b[0mticksLight\u001b[0m\u001b[1;33m[\u001b[0m\u001b[1;36m0\u001b[0m\u001b[1;33m]\u001b[0m\u001b[1;33m)\u001b[0m\u001b[1;33m.\u001b[0m\u001b[0mall\u001b[0m\u001b[1;33m(\u001b[0m\u001b[1;33m)\u001b[0m\u001b[1;33m:\u001b[0m\u001b[1;33m\u001b[0m\u001b[1;33m\u001b[0m\u001b[0m\n\u001b[0;32m    185\u001b[0m             \u001b[1;31m# there are one or more tick labels, all with the same lightness\u001b[0m\u001b[1;33m\u001b[0m\u001b[1;33m\u001b[0m\u001b[1;33m\u001b[0m\u001b[0m\n",
      "\u001b[1;32m~\\anaconda3\\lib\\site-packages\\matplotlib\\axis.py\u001b[0m in \u001b[0;36mget_ticklabels\u001b[1;34m(self, minor, which)\u001b[0m\n\u001b[0;32m   1294\u001b[0m         \u001b[1;32mif\u001b[0m \u001b[0mminor\u001b[0m\u001b[1;33m:\u001b[0m\u001b[1;33m\u001b[0m\u001b[1;33m\u001b[0m\u001b[0m\n\u001b[0;32m   1295\u001b[0m             \u001b[1;32mreturn\u001b[0m \u001b[0mself\u001b[0m\u001b[1;33m.\u001b[0m\u001b[0mget_minorticklabels\u001b[0m\u001b[1;33m(\u001b[0m\u001b[1;33m)\u001b[0m\u001b[1;33m\u001b[0m\u001b[1;33m\u001b[0m\u001b[0m\n\u001b[1;32m-> 1296\u001b[1;33m         \u001b[1;32mreturn\u001b[0m \u001b[0mself\u001b[0m\u001b[1;33m.\u001b[0m\u001b[0mget_majorticklabels\u001b[0m\u001b[1;33m(\u001b[0m\u001b[1;33m)\u001b[0m\u001b[1;33m\u001b[0m\u001b[1;33m\u001b[0m\u001b[0m\n\u001b[0m\u001b[0;32m   1297\u001b[0m \u001b[1;33m\u001b[0m\u001b[0m\n\u001b[0;32m   1298\u001b[0m     \u001b[1;32mdef\u001b[0m \u001b[0mget_majorticklines\u001b[0m\u001b[1;33m(\u001b[0m\u001b[0mself\u001b[0m\u001b[1;33m)\u001b[0m\u001b[1;33m:\u001b[0m\u001b[1;33m\u001b[0m\u001b[1;33m\u001b[0m\u001b[0m\n",
      "\u001b[1;32m~\\anaconda3\\lib\\site-packages\\matplotlib\\axis.py\u001b[0m in \u001b[0;36mget_majorticklabels\u001b[1;34m(self)\u001b[0m\n\u001b[0;32m   1250\u001b[0m     \u001b[1;32mdef\u001b[0m \u001b[0mget_majorticklabels\u001b[0m\u001b[1;33m(\u001b[0m\u001b[0mself\u001b[0m\u001b[1;33m)\u001b[0m\u001b[1;33m:\u001b[0m\u001b[1;33m\u001b[0m\u001b[1;33m\u001b[0m\u001b[0m\n\u001b[0;32m   1251\u001b[0m         \u001b[1;34m'Return a list of Text instances for the major ticklabels.'\u001b[0m\u001b[1;33m\u001b[0m\u001b[1;33m\u001b[0m\u001b[0m\n\u001b[1;32m-> 1252\u001b[1;33m         \u001b[0mticks\u001b[0m \u001b[1;33m=\u001b[0m \u001b[0mself\u001b[0m\u001b[1;33m.\u001b[0m\u001b[0mget_major_ticks\u001b[0m\u001b[1;33m(\u001b[0m\u001b[1;33m)\u001b[0m\u001b[1;33m\u001b[0m\u001b[1;33m\u001b[0m\u001b[0m\n\u001b[0m\u001b[0;32m   1253\u001b[0m         \u001b[0mlabels1\u001b[0m \u001b[1;33m=\u001b[0m \u001b[1;33m[\u001b[0m\u001b[0mtick\u001b[0m\u001b[1;33m.\u001b[0m\u001b[0mlabel1\u001b[0m \u001b[1;32mfor\u001b[0m \u001b[0mtick\u001b[0m \u001b[1;32min\u001b[0m \u001b[0mticks\u001b[0m \u001b[1;32mif\u001b[0m \u001b[0mtick\u001b[0m\u001b[1;33m.\u001b[0m\u001b[0mlabel1\u001b[0m\u001b[1;33m.\u001b[0m\u001b[0mget_visible\u001b[0m\u001b[1;33m(\u001b[0m\u001b[1;33m)\u001b[0m\u001b[1;33m]\u001b[0m\u001b[1;33m\u001b[0m\u001b[1;33m\u001b[0m\u001b[0m\n\u001b[0;32m   1254\u001b[0m         \u001b[0mlabels2\u001b[0m \u001b[1;33m=\u001b[0m \u001b[1;33m[\u001b[0m\u001b[0mtick\u001b[0m\u001b[1;33m.\u001b[0m\u001b[0mlabel2\u001b[0m \u001b[1;32mfor\u001b[0m \u001b[0mtick\u001b[0m \u001b[1;32min\u001b[0m \u001b[0mticks\u001b[0m \u001b[1;32mif\u001b[0m \u001b[0mtick\u001b[0m\u001b[1;33m.\u001b[0m\u001b[0mlabel2\u001b[0m\u001b[1;33m.\u001b[0m\u001b[0mget_visible\u001b[0m\u001b[1;33m(\u001b[0m\u001b[1;33m)\u001b[0m\u001b[1;33m]\u001b[0m\u001b[1;33m\u001b[0m\u001b[1;33m\u001b[0m\u001b[0m\n",
      "\u001b[1;32m~\\anaconda3\\lib\\site-packages\\matplotlib\\axis.py\u001b[0m in \u001b[0;36mget_major_ticks\u001b[1;34m(self, numticks)\u001b[0m\n\u001b[0;32m   1405\u001b[0m         \u001b[1;34m'Get the tick instances; grow as necessary.'\u001b[0m\u001b[1;33m\u001b[0m\u001b[1;33m\u001b[0m\u001b[0m\n\u001b[0;32m   1406\u001b[0m         \u001b[1;32mif\u001b[0m \u001b[0mnumticks\u001b[0m \u001b[1;32mis\u001b[0m \u001b[1;32mNone\u001b[0m\u001b[1;33m:\u001b[0m\u001b[1;33m\u001b[0m\u001b[1;33m\u001b[0m\u001b[0m\n\u001b[1;32m-> 1407\u001b[1;33m             \u001b[0mnumticks\u001b[0m \u001b[1;33m=\u001b[0m \u001b[0mlen\u001b[0m\u001b[1;33m(\u001b[0m\u001b[0mself\u001b[0m\u001b[1;33m.\u001b[0m\u001b[0mget_majorticklocs\u001b[0m\u001b[1;33m(\u001b[0m\u001b[1;33m)\u001b[0m\u001b[1;33m)\u001b[0m\u001b[1;33m\u001b[0m\u001b[1;33m\u001b[0m\u001b[0m\n\u001b[0m\u001b[0;32m   1408\u001b[0m \u001b[1;33m\u001b[0m\u001b[0m\n\u001b[0;32m   1409\u001b[0m         \u001b[1;32mwhile\u001b[0m \u001b[0mlen\u001b[0m\u001b[1;33m(\u001b[0m\u001b[0mself\u001b[0m\u001b[1;33m.\u001b[0m\u001b[0mmajorTicks\u001b[0m\u001b[1;33m)\u001b[0m \u001b[1;33m<\u001b[0m \u001b[0mnumticks\u001b[0m\u001b[1;33m:\u001b[0m\u001b[1;33m\u001b[0m\u001b[1;33m\u001b[0m\u001b[0m\n",
      "\u001b[1;31mTypeError\u001b[0m: len() of unsized object"
     ]
    }
   ],
   "source": [
    "# Make the plot\n",
    "plt.stem(lollipop.values())\n",
    "plt.xticks(lollipop.values(), lollipop.keys())\n",
    " \n",
    " \n",
    "# Vertical version\n",
    "plt.hlines(y=my_range, xmin=0, xmax=lollipop.values(), color='skyblue')\n",
    "plt.plot(lollipop.values(), my_range, \"D\")\n",
    "plt.yticks(lollipop.values(), lollipop.keys())\n",
    "plt.show()"
   ]
  },
  {
   "cell_type": "markdown",
   "metadata": {},
   "source": [
    "# Funding round distribution US vs China"
   ]
  },
  {
   "cell_type": "code",
   "execution_count": null,
   "metadata": {},
   "outputs": [],
   "source": [
    "funding_round = df['Funding Round']"
   ]
  },
  {
   "cell_type": "markdown",
   "metadata": {},
   "source": [
    "# Every VC's activeness (investments made) every month"
   ]
  },
  {
   "cell_type": "markdown",
   "metadata": {},
   "source": [
    "# Correlation of Check Size vs Leading an Investment"
   ]
  }
 ],
 "metadata": {
  "kernelspec": {
   "display_name": "Python 3",
   "language": "python",
   "name": "python3"
  },
  "language_info": {
   "codemirror_mode": {
    "name": "ipython",
    "version": 3
   },
   "file_extension": ".py",
   "mimetype": "text/x-python",
   "name": "python",
   "nbconvert_exporter": "python",
   "pygments_lexer": "ipython3",
   "version": "3.7.6"
  }
 },
 "nbformat": 4,
 "nbformat_minor": 4
}
